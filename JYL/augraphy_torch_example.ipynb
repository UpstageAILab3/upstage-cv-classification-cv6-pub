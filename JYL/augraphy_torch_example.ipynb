{
 "cells": [
  {
   "cell_type": "code",
   "execution_count": null,
   "metadata": {},
   "outputs": [],
   "source": [
    "!pip install gdown\n",
    "\n",
    "# to upgrade\n",
    "!pip install --upgrade gdown"
   ]
  },
  {
   "cell_type": "code",
   "execution_count": null,
   "metadata": {},
   "outputs": [],
   "source": [
    "# # download and unzip document image data\n",
    "\n",
    "# !gdown --id 1uJPavzL7K3FFr9MEfZbdX3SNa1bGEdPu\n",
    "# !unzip shabby_small.zip"
   ]
  },
  {
   "cell_type": "code",
   "execution_count": null,
   "metadata": {},
   "outputs": [],
   "source": [
    "# Install  Augraphy, the main image augmentation library\n",
    "\n",
    "!pip install git+https://github.com/sparkfish/augraphy"
   ]
  },
  {
   "cell_type": "code",
   "execution_count": null,
   "metadata": {},
   "outputs": [],
   "source": [
    "# import libraries\n",
    "\n",
    "import sys\n",
    "import glob\n",
    "import cv2\n",
    "import numpy as np\n",
    "\n",
    "from tqdm import tqdm\n",
    "\n",
    "import torch\n",
    "import torch.nn as nn\n",
    "import torch.nn.functional as F\n",
    "from torch.utils.data import Dataset, DataLoader\n",
    "from torchvision import transforms, utils, datasets, models\n",
    "from torch.nn.modules.loss import BCEWithLogitsLoss\n",
    "from torch.optim import lr_scheduler\n",
    "\n",
    "from torch.autograd import Variable\n",
    "\n",
    "from matplotlib import pyplot as plt\n",
    "from time import time"
   ]
  },
  {
   "cell_type": "code",
   "execution_count": null,
   "metadata": {},
   "outputs": [],
   "source": [
    "# create an Augraphy augmentation pipeline\n",
    "\n",
    "from augraphy import *\n",
    "\n",
    "ink_phase = [\n",
    "    Dithering(p=0.5),\n",
    "    InkBleed(p=0.5),\n",
    "    OneOf([LowInkRandomLines(p=1), LowInkPeriodicLines(p=1)]),\n",
    "]\n",
    "\n",
    "paper_phase = [ColorPaper(p=0.5)]\n",
    "\n",
    "post_phase = [\n",
    "    Markup(p=0.25),\n",
    "    DirtyRollers(p=0.25),\n",
    "    Scribbles(p=0.25),\n",
    "    BindingsAndFasteners(p=0.25),\n",
    "    BadPhotoCopy(p=0.25),\n",
    "    DirtyDrum(p=0.25),\n",
    "]\n",
    "\n",
    "augmentation_pipeline = AugraphyPipeline(\n",
    "    ink_phase=ink_phase, paper_phase=paper_phase, post_phase=post_phase\n",
    ")"
   ]
  }
 ],
 "metadata": {
  "kernelspec": {
   "display_name": "noname",
   "language": "python",
   "name": "python3"
  },
  "language_info": {
   "codemirror_mode": {
    "name": "ipython",
    "version": 3
   },
   "file_extension": ".py",
   "mimetype": "text/x-python",
   "name": "python",
   "nbconvert_exporter": "python",
   "pygments_lexer": "ipython3",
   "version": "3.8.19"
  }
 },
 "nbformat": 4,
 "nbformat_minor": 2
}
