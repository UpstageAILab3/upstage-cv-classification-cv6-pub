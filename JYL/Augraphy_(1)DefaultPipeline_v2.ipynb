{
 "cells": [
  {
   "cell_type": "markdown",
   "metadata": {},
   "source": [
    "### Data Augumentation - Augraphy"
   ]
  },
  {
   "cell_type": "markdown",
   "metadata": {},
   "source": [
    "#### 1) 라이브러리 다운로드 및 임포트"
   ]
  },
  {
   "cell_type": "code",
   "execution_count": null,
   "metadata": {},
   "outputs": [],
   "source": [
    "# !pip install augraphy"
   ]
  },
  {
   "cell_type": "code",
   "execution_count": null,
   "metadata": {},
   "outputs": [],
   "source": [
    "import os\n",
    "\n",
    "import cv2 as cv\n",
    "import numpy as np\n",
    "import matplotlib.pyplot as plt\n",
    "import pandas as pd"
   ]
  },
  {
   "cell_type": "markdown",
   "metadata": {},
   "source": [
    "#### 2) Augraphy - Default Pipeline\n",
    "> **⚠️실행 전 주의 사항⚠️**\n",
    "- 증강된 이미지를 저장할 경로를 설정합니다.\n",
    "- 증강된 이미지 생성을 위해 함수 `augment_images()`의 `매개변수(s_index, e_index, n_iteration)`를 지정합니다.\n",
    "    - `s_index`: 이미지 증강을 실행할 원본 이미지 시작 인덱스 (0부터 시작)\n",
    "    - `e_index`: 이미지 증강을 수행할 원본 이미지 마지막 인덱스\n",
    "    - `n_interation`: 이미지 증강을 몇 번 수행할 것인지 (Defualt Pipeline이므로 랜덤으로 수행됨)\n",
    "- 증강된 이미지 레이블을 저장할 경로를 설정합니다. \n",
    "- 증강된 이미지 레이블을 저장할 파일명(*.csv)을 설정합니다."
   ]
  },
  {
   "cell_type": "code",
   "execution_count": null,
   "metadata": {},
   "outputs": [],
   "source": [
    "# 원본 이미지 경로 탐색 및 파일명 추출\n",
    "fpath_load = \"../data/train/\"\n",
    "fname_list = os.listdir(fpath_load)\n",
    "fname_list.sort()\n",
    "print(\"원본 이미지 개수: \", len(fname_list))\n",
    "\n",
    "# 증강 이미지 저장 경로 설정\n",
    "fpath_save = \"../data/train_augmented_tmp\"\n",
    "# fpath_save = \"../data/train_augmented/\"\n",
    "if not os.path.exists(fpath_save):\n",
    "    os.makedirs(fpath_save)"
   ]
  },
  {
   "cell_type": "code",
   "execution_count": null,
   "metadata": {},
   "outputs": [],
   "source": [
    "from augraphy import *\n",
    "\n",
    "\n",
    "# 이미지 증강\n",
    "def augment_images(s_index=0, e_index=1569, n_iteration=10):\n",
    "    # Make Pipeline for Augraphy\n",
    "    pipeline = default_augraphy_pipeline()\n",
    "\n",
    "    # Make Batches of Images    \n",
    "    image_list = []\n",
    "    for i in range(s_index, e_index + 1):\n",
    "        # 원본 이미지 파일명 리스트 생성\n",
    "        image_list.append(cv.imread(fpath_load + fname_list[i]))\n",
    "        # 원본 이미지 저장\n",
    "        cv.imwrite(fpath_save + fname_list[i], image_list[i - s_index])\n",
    "        print(f\"원본 이미지 저장: {fpath_save}{fname_list[i]}\")\n",
    "\n",
    "    # Augument Images\n",
    "    for i in range(1, n_iteration + 1):\n",
    "        # 이미지 증강\n",
    "        image_augmented_list = pipeline(image_list)\n",
    "\n",
    "        for j, image in enumerate(image_augmented_list):\n",
    "            # 증강 이미지 저장\n",
    "            fname = fname_list[s_index + j].split(\".\")[0]\n",
    "            fname_save = f\"{fpath_save}{fname}_{i}.jpg\"\n",
    "            cv.imwrite(fname_save, image)\n",
    "            print(f\"증강 이미지 저장: {fname_save}\")\n",
    "\n",
    "    return image_augmented_list"
   ]
  },
  {
   "cell_type": "code",
   "execution_count": null,
   "metadata": {},
   "outputs": [],
   "source": [
    "# 이미지 증강 실행\n",
    "# image_augmented_list = augment_images(n_iteration=10)"
   ]
  },
  {
   "cell_type": "code",
   "execution_count": null,
   "metadata": {},
   "outputs": [],
   "source": [
    "# 증강 이미지 레이블 저장\n",
    "# fname_augmented_path = \"../data/train_augmented\"\n",
    "fname_augmented_path = \"../data/train_augmented_tmp\"\n",
    "fname_augmented_list = os.listdir(fname_augmented_path)\n",
    "fname_augmented_list.sort()\n",
    "\n",
    "df_train_augmented = pd.DataFrame(columns=[[\"ID\", \"target\"]])\n",
    "df_train_augmented[\"ID\"] = fname_augmented_list\n",
    "# print(df_train_augmented)\n",
    "\n",
    "df_train = pd.read_csv(\"../data/train.csv\")\n",
    "df_train = df_train.set_index('ID').T.to_dict()\n",
    "keys_list = list(df_train.keys())\n",
    "\n",
    "for i in range(len(df_train_augmented)):\n",
    "    df_train_augmented_ID = df_train_augmented.iloc[i][\"ID\"]\n",
    "    df_train_augmented_ID = df_train_augmented_ID.replace(\"_\", \".\").split(\".\")[0] + \".jpg\"\n",
    "\n",
    "    for key, value in df_train.items():\n",
    "        if df_train_augmented_ID == key:\n",
    "            df_train_augmented.at[i, \"target\"] = value[\"target\"]\n",
    "\n",
    "\n",
    "print(\"원본 + 증강 이미지 개수: \", df_train_augmented.shape[0])\n",
    "print(df_train_augmented.isnull().sum())\n",
    "\n",
    "df_train_augmented.to_csv(\"../data/train_augmented_tmp.csv\", index=False)\n",
    "# df_train_augmented.to_csv(\"../data/train_augmented.csv\", index=False)"
   ]
  }
 ],
 "metadata": {
  "kernelspec": {
   "display_name": "py38-torch",
   "language": "python",
   "name": "python3"
  },
  "language_info": {
   "codemirror_mode": {
    "name": "ipython",
    "version": 3
   },
   "file_extension": ".py",
   "mimetype": "text/x-python",
   "name": "python",
   "nbconvert_exporter": "python",
   "pygments_lexer": "ipython3",
   "version": "3.10.13"
  }
 },
 "nbformat": 4,
 "nbformat_minor": 2
}
