{
 "cells": [
  {
   "cell_type": "markdown",
   "metadata": {},
   "source": [
    "### Data Augumentation - Augraphy"
   ]
  },
  {
   "cell_type": "markdown",
   "metadata": {},
   "source": [
    "> **⚠️실행 전 주의 사항⚠️**\n",
    "- 증강된 이미지를 저장할 경로를 설정합니다.\n",
    "- 증강된 이미지 생성을 위해 함수 `augment_images()`의 `매개변수(s_index, e_index, n_iteration)`를 지정합니다.\n",
    "    - `s_index`: 이미지 증강을 실행할 원본 이미지 시작 인덱스 (0부터 시작)\n",
    "    - `e_index`: 이미지 증강을 수행할 원본 이미지 마지막 인덱스\n",
    "    - `n_interation`: 이미지 증강 수행 횟수 (무작위성이 있음)\n",
    "- 증강된 이미지 레이블을 저장할 경로를 설정합니다. \n",
    "- 증강된 이미지 레이블을 저장할 파일명(*.csv)을 설정합니다."
   ]
  },
  {
   "cell_type": "markdown",
   "metadata": {},
   "source": [
    "#### 1) 라이브러리 다운로드 및 임포트"
   ]
  },
  {
   "cell_type": "code",
   "execution_count": 1,
   "metadata": {},
   "outputs": [
    {
     "name": "stdout",
     "output_type": "stream",
     "text": [
      "Requirement already satisfied: augraphy in /opt/conda/lib/python3.10/site-packages (8.2.6)\n",
      "Requirement already satisfied: matplotlib>=3.4.3 in /opt/conda/lib/python3.10/site-packages (from augraphy) (3.9.1)\n",
      "Requirement already satisfied: numba>=0.57.0 in /opt/conda/lib/python3.10/site-packages (from augraphy) (0.60.0)\n",
      "Requirement already satisfied: numpy>=1.20.1 in /opt/conda/lib/python3.10/site-packages (from augraphy) (1.26.0)\n",
      "Requirement already satisfied: opencv-python>=4.5.1.48 in /opt/conda/lib/python3.10/site-packages (from augraphy) (4.10.0.84)\n",
      "Requirement already satisfied: Pillow>=8.0.0 in /opt/conda/lib/python3.10/site-packages (from augraphy) (9.4.0)\n",
      "Requirement already satisfied: requests>=2.25.1 in /opt/conda/lib/python3.10/site-packages (from augraphy) (2.31.0)\n",
      "Requirement already satisfied: scikit-image>=0.18.1 in /opt/conda/lib/python3.10/site-packages (from augraphy) (0.22.0)\n",
      "Requirement already satisfied: scikit-learn>=0.23.2 in /opt/conda/lib/python3.10/site-packages (from augraphy) (1.3.2)\n",
      "Requirement already satisfied: scipy>=1.6.3 in /opt/conda/lib/python3.10/site-packages (from augraphy) (1.11.4)\n",
      "Requirement already satisfied: contourpy>=1.0.1 in /opt/conda/lib/python3.10/site-packages (from matplotlib>=3.4.3->augraphy) (1.2.1)\n",
      "Requirement already satisfied: cycler>=0.10 in /opt/conda/lib/python3.10/site-packages (from matplotlib>=3.4.3->augraphy) (0.12.1)\n",
      "Requirement already satisfied: fonttools>=4.22.0 in /opt/conda/lib/python3.10/site-packages (from matplotlib>=3.4.3->augraphy) (4.53.1)\n",
      "Requirement already satisfied: kiwisolver>=1.3.1 in /opt/conda/lib/python3.10/site-packages (from matplotlib>=3.4.3->augraphy) (1.4.5)\n",
      "Requirement already satisfied: packaging>=20.0 in /opt/conda/lib/python3.10/site-packages (from matplotlib>=3.4.3->augraphy) (23.1)\n",
      "Requirement already satisfied: pyparsing>=2.3.1 in /opt/conda/lib/python3.10/site-packages (from matplotlib>=3.4.3->augraphy) (3.1.2)\n",
      "Requirement already satisfied: python-dateutil>=2.7 in /opt/conda/lib/python3.10/site-packages (from matplotlib>=3.4.3->augraphy) (2.8.2)\n",
      "Requirement already satisfied: llvmlite<0.44,>=0.43.0dev0 in /opt/conda/lib/python3.10/site-packages (from numba>=0.57.0->augraphy) (0.43.0)\n",
      "Requirement already satisfied: charset-normalizer<4,>=2 in /opt/conda/lib/python3.10/site-packages (from requests>=2.25.1->augraphy) (2.0.4)\n",
      "Requirement already satisfied: idna<4,>=2.5 in /opt/conda/lib/python3.10/site-packages (from requests>=2.25.1->augraphy) (3.4)\n",
      "Requirement already satisfied: urllib3<3,>=1.21.1 in /opt/conda/lib/python3.10/site-packages (from requests>=2.25.1->augraphy) (1.26.16)\n",
      "Requirement already satisfied: certifi>=2017.4.17 in /opt/conda/lib/python3.10/site-packages (from requests>=2.25.1->augraphy) (2023.7.22)\n",
      "Requirement already satisfied: networkx>=2.8 in /opt/conda/lib/python3.10/site-packages (from scikit-image>=0.18.1->augraphy) (3.1)\n",
      "Requirement already satisfied: imageio>=2.27 in /opt/conda/lib/python3.10/site-packages (from scikit-image>=0.18.1->augraphy) (2.33.1)\n",
      "Requirement already satisfied: tifffile>=2022.8.12 in /opt/conda/lib/python3.10/site-packages (from scikit-image>=0.18.1->augraphy) (2023.12.9)\n",
      "Requirement already satisfied: lazy_loader>=0.3 in /opt/conda/lib/python3.10/site-packages (from scikit-image>=0.18.1->augraphy) (0.3)\n",
      "Requirement already satisfied: joblib>=1.1.1 in /opt/conda/lib/python3.10/site-packages (from scikit-learn>=0.23.2->augraphy) (1.3.2)\n",
      "Requirement already satisfied: threadpoolctl>=2.0.0 in /opt/conda/lib/python3.10/site-packages (from scikit-learn>=0.23.2->augraphy) (3.2.0)\n",
      "Requirement already satisfied: six>=1.5 in /opt/conda/lib/python3.10/site-packages (from python-dateutil>=2.7->matplotlib>=3.4.3->augraphy) (1.16.0)\n",
      "\u001b[33mWARNING: Running pip as the 'root' user can result in broken permissions and conflicting behaviour with the system package manager. It is recommended to use a virtual environment instead: https://pip.pypa.io/warnings/venv\u001b[0m\u001b[33m\n",
      "\u001b[0mRequirement already satisfied: albumentations in /opt/conda/lib/python3.10/site-packages (1.3.1)\n",
      "Requirement already satisfied: numpy>=1.11.1 in /opt/conda/lib/python3.10/site-packages (from albumentations) (1.26.0)\n",
      "Requirement already satisfied: scipy>=1.1.0 in /opt/conda/lib/python3.10/site-packages (from albumentations) (1.11.4)\n",
      "Requirement already satisfied: scikit-image>=0.16.1 in /opt/conda/lib/python3.10/site-packages (from albumentations) (0.22.0)\n",
      "Requirement already satisfied: PyYAML in /opt/conda/lib/python3.10/site-packages (from albumentations) (6.0)\n",
      "Requirement already satisfied: qudida>=0.0.4 in /opt/conda/lib/python3.10/site-packages (from albumentations) (0.0.4)\n",
      "Requirement already satisfied: opencv-python-headless>=4.1.1 in /opt/conda/lib/python3.10/site-packages (from albumentations) (4.8.1.78)\n",
      "Requirement already satisfied: scikit-learn>=0.19.1 in /opt/conda/lib/python3.10/site-packages (from qudida>=0.0.4->albumentations) (1.3.2)\n",
      "Requirement already satisfied: typing-extensions in /opt/conda/lib/python3.10/site-packages (from qudida>=0.0.4->albumentations) (4.7.1)\n",
      "Requirement already satisfied: networkx>=2.8 in /opt/conda/lib/python3.10/site-packages (from scikit-image>=0.16.1->albumentations) (3.1)\n",
      "Requirement already satisfied: pillow>=9.0.1 in /opt/conda/lib/python3.10/site-packages (from scikit-image>=0.16.1->albumentations) (9.4.0)\n",
      "Requirement already satisfied: imageio>=2.27 in /opt/conda/lib/python3.10/site-packages (from scikit-image>=0.16.1->albumentations) (2.33.1)\n",
      "Requirement already satisfied: tifffile>=2022.8.12 in /opt/conda/lib/python3.10/site-packages (from scikit-image>=0.16.1->albumentations) (2023.12.9)\n",
      "Requirement already satisfied: packaging>=21 in /opt/conda/lib/python3.10/site-packages (from scikit-image>=0.16.1->albumentations) (23.1)\n",
      "Requirement already satisfied: lazy_loader>=0.3 in /opt/conda/lib/python3.10/site-packages (from scikit-image>=0.16.1->albumentations) (0.3)\n",
      "Requirement already satisfied: joblib>=1.1.1 in /opt/conda/lib/python3.10/site-packages (from scikit-learn>=0.19.1->qudida>=0.0.4->albumentations) (1.3.2)\n",
      "Requirement already satisfied: threadpoolctl>=2.0.0 in /opt/conda/lib/python3.10/site-packages (from scikit-learn>=0.19.1->qudida>=0.0.4->albumentations) (3.2.0)\n",
      "\u001b[33mWARNING: Running pip as the 'root' user can result in broken permissions and conflicting behaviour with the system package manager. It is recommended to use a virtual environment instead: https://pip.pypa.io/warnings/venv\u001b[0m\u001b[33m\n",
      "\u001b[0m"
     ]
    }
   ],
   "source": [
    "# !pip install augraphy\n",
    "# !pip install albumentations"
   ]
  },
  {
   "cell_type": "code",
   "execution_count": 2,
   "metadata": {},
   "outputs": [],
   "source": [
    "import os\n",
    "\n",
    "import cv2 as cv\n",
    "import numpy as np\n",
    "import matplotlib.pyplot as plt\n",
    "import pandas as pd"
   ]
  },
  {
   "cell_type": "code",
   "execution_count": 3,
   "metadata": {},
   "outputs": [
    {
     "name": "stdout",
     "output_type": "stream",
     "text": [
      "원본 이미지 개수:  1570\n"
     ]
    }
   ],
   "source": [
    "# 원본 이미지 경로 탐색 및 파일명 추출\n",
    "fpath_load = \"../data/train/\"\n",
    "fname_list = os.listdir(fpath_load)\n",
    "fname_list.sort()\n",
    "print(\"원본 이미지 개수: \", len(fname_list))\n",
    "\n",
    "# 증강 이미지 저장 경로 설정\n",
    "fpath_save = \"../data/train_augmented_tmp/\"\n",
    "# fpath_save = \"../data/train_augmented/\"\n",
    "if not os.path.exists(fpath_save):\n",
    "    os.makedirs(fpath_save)"
   ]
  },
  {
   "cell_type": "markdown",
   "metadata": {},
   "source": [
    "#### 2) Augraphy with Default Pipeline"
   ]
  },
  {
   "cell_type": "code",
   "execution_count": 4,
   "metadata": {},
   "outputs": [],
   "source": [
    "from augraphy import *\n",
    "\n",
    "\n",
    "# 이미지 증강\n",
    "def augment_images_default(s_index=0, e_index=1569, n_iteration=10):\n",
    "    # Make Pipeline for Augraphy\n",
    "    pipeline = default_augraphy_pipeline()\n",
    "\n",
    "    # Make Batches of Images\n",
    "    image_list = []\n",
    "    for i in range(s_index, e_index + 1):\n",
    "        # 원본 이미지 파일명 리스트 생성\n",
    "        image_list.append(cv.imread(fpath_load + fname_list[i]))\n",
    "        # 원본 이미지 저장\n",
    "        cv.imwrite(fpath_save + fname_list[i], image_list[i - s_index])\n",
    "        print(f\"원본 이미지 저장: {fpath_save}{fname_list[i]}\")\n",
    "\n",
    "    # Augument Images\n",
    "    for i in range(1, n_iteration + 1):\n",
    "        # 이미지 증강\n",
    "        image_augmented_list = pipeline(image_list)\n",
    "\n",
    "        for j, image in enumerate(image_augmented_list):\n",
    "            # 증강 이미지 저장\n",
    "            fname = fname_list[s_index + j].split(\".\")[0]\n",
    "            fname_save = f\"{fpath_save}{fname}_{i}.jpg\"\n",
    "            cv.imwrite(fname_save, image)\n",
    "            print(f\"증강 이미지 저장: {fname_save}\")\n",
    "\n",
    "    return image_augmented_list"
   ]
  },
  {
   "cell_type": "code",
   "execution_count": 5,
   "metadata": {},
   "outputs": [],
   "source": [
    "# # 이미지 증강 실행\n",
    "# augment_images_default(s_index=0, e_index=4, n_iteration=10)"
   ]
  },
  {
   "cell_type": "markdown",
   "metadata": {},
   "source": [
    "#### 데이터 레이블 저장"
   ]
  },
  {
   "cell_type": "code",
   "execution_count": 6,
   "metadata": {},
   "outputs": [],
   "source": [
    "def augment_labels():\n",
    "    # fname_augmented_path = \"../data/train_augmented\"\n",
    "    fname_augmented_path = \"../data/train_augmented_tmp\"\n",
    "    fname_augmented_list = os.listdir(fname_augmented_path)\n",
    "    fname_augmented_list.sort()\n",
    "\n",
    "    df_train_augmented = pd.DataFrame(columns=[[\"ID\", \"target\"]])\n",
    "    df_train_augmented[\"ID\"] = fname_augmented_list\n",
    "    # print(df_train_augmented)\n",
    "\n",
    "    df_train = pd.read_csv(\"../data/train.csv\")\n",
    "    df_train = df_train.set_index(\"ID\").T.to_dict()\n",
    "\n",
    "    for i in range(len(df_train_augmented)):\n",
    "        df_train_augmented_ID = df_train_augmented.iloc[i][\"ID\"]\n",
    "        df_train_augmented_ID = (\n",
    "            df_train_augmented_ID.replace(\"_\", \".\").split(\".\")[0] + \".jpg\"\n",
    "        )\n",
    "\n",
    "        for key, value in df_train.items():\n",
    "            if df_train_augmented_ID == key:\n",
    "                df_train_augmented.at[i, \"target\"] = value[\"target\"]\n",
    "\n",
    "    print(\"원본 + 증강 이미지 개수: \", df_train_augmented.shape[0])\n",
    "    print(\"결측치\")\n",
    "    print(df_train_augmented.isnull().sum())\n",
    "\n",
    "    df_train_augmented.to_csv(\"../data/train_augmented_tmp.csv\", index=False)\n",
    "    # df_train_augmented.to_csv(\"../data/train_augmented.csv\", index=False)"
   ]
  },
  {
   "cell_type": "code",
   "execution_count": 7,
   "metadata": {},
   "outputs": [],
   "source": [
    "# augment_labels()"
   ]
  },
  {
   "cell_type": "markdown",
   "metadata": {},
   "source": [
    "#### 3) Augraphy - User Defined Pipeline"
   ]
  },
  {
   "cell_type": "markdown",
   "metadata": {},
   "source": [
    "##### 하나의 Augraphy User Defined Pipeline"
   ]
  },
  {
   "cell_type": "code",
   "execution_count": 8,
   "metadata": {},
   "outputs": [],
   "source": [
    "from augraphy import *\n",
    "from MyAugraphyPipeline import *\n",
    "\n",
    "\n",
    "# 이미지 증강 함수\n",
    "# - 사용자 정의 파이프라인을 10번 수행 (매개변수로 지정한 범위 내에서 랜덤하게 수행)\n",
    "def augment_images_with_my_pipeline_one(s_index=0, e_index=1569, n_iteration=10):\n",
    "    # Make Pipeline for Augraphy\n",
    "    pipeline = my_augraphy_pipeline()\n",
    "\n",
    "    # Make Batches of Images\n",
    "    image_list = []\n",
    "    for i in range(s_index, e_index + 1):\n",
    "        # 원본 이미지 파일명 리스트 생성\n",
    "        image_list.append(fpath_load + fname_list[i])\n",
    "\n",
    "        # 원본 이미지 저장\n",
    "        cv.imwrite(fpath_save + fname_list[i], image_list[i - s_index])\n",
    "        print(f\"원본 이미지 저장: {fpath_save}{fname_list[i]}\")\n",
    "\n",
    "    # Augument Images\n",
    "    for i in range(1, n_iteration + 1):\n",
    "        # 이미지 증강\n",
    "        image_augmented_list = pipeline(image_list)\n",
    "\n",
    "        for j, image in enumerate(image_augmented_list):\n",
    "            # 증강 이미지 저장\n",
    "            fname = fname_list[s_index + j].split(\".\")[0]\n",
    "            fname_save = f\"{fpath_save}{fname}_augmented_{i}.jpg\"\n",
    "            cv.imwrite(fname_save, image)\n",
    "            print(f\"증강 이미지 저장: {fname_save}\")"
   ]
  },
  {
   "cell_type": "code",
   "execution_count": 9,
   "metadata": {},
   "outputs": [],
   "source": [
    "# augment_images_with_my_pipeline_one(s_index=0, e_index=1, n_iteration=10)"
   ]
  },
  {
   "cell_type": "markdown",
   "metadata": {},
   "source": [
    "##### 다수의 Augraphy User Defined Pipeline"
   ]
  },
  {
   "cell_type": "code",
   "execution_count": 10,
   "metadata": {},
   "outputs": [],
   "source": [
    "from augraphy import *\n",
    "from augraphy.default.pipeline import *\n",
    "from MyAugraphyPipeline import *\n",
    "\n",
    "\n",
    "# 이미지 증강 함수\n",
    "# - 사용자 정의 파이프라인 10개를 1번 돌림\n",
    "def augment_images_with_my_pipeline_list(s_index=0, e_index=1569, n_iteration=10):\n",
    "    # Make Pipelines for Augraphy\n",
    "    pipeline_list = [\n",
    "        # 미리 정의된 함수\n",
    "        # pipeline_archetype1(),\n",
    "        # pipeline_archetype2(),\n",
    "        # pipeline_archetype3(),\n",
    "        # pipeline_archetype4(),\n",
    "        # pipeline_archetype5(),\n",
    "        # pipeline_archetype6(),\n",
    "        # pipeline_archetype7(),\n",
    "        # # pipeline_archetype8(), # 오류\n",
    "        # pipeline_archetype9(),\n",
    "        # pipeline_archetype10(),\n",
    "        # 사용자 정의 함수 (*현재 my_augraphy_pipeline1만 구현)\n",
    "        my_augraphy_pipeline1(),\n",
    "        # my_augraphy_pipeline2(),\n",
    "        # my_augraphy_pipeline3(),\n",
    "        # my_augraphy_pipeline4(),\n",
    "        # my_augraphy_pipeline5(),\n",
    "    ]\n",
    "\n",
    "    image_list = []\n",
    "    for i in range(s_index, e_index + 1):\n",
    "        # 원본 이미지 파일명 리스트 생성\n",
    "        image_list.append(cv.imread(fpath_load + fname_list[i]))\n",
    "        # 원본 이미지 저장\n",
    "        cv.imwrite(fpath_save + fname_list[i], image_list[i - s_index])\n",
    "        print(f\"원본 이미지 저장: {fpath_save}{fname_list[i]}\")\n",
    "\n",
    "    # Make Batches of Images\n",
    "    for n in range(n_iteration):\n",
    "        # Augument Images\n",
    "        ## 첫번째 파이프라인 실행 → 두번째 파이프라인 실행 → ...\n",
    "        for i in range(len(pipeline_list)):\n",
    "            # 사용자 정의 파이프라인을 통한 이미지 증강\n",
    "            globals()[f\"pipeline{i}\"] = pipeline_list[i]\n",
    "            globals()[f\"image_augmented_list{i}\"] = globals()[f\"pipeline{i}\"](\n",
    "                image_list\n",
    "            )\n",
    "\n",
    "            # 증강 이미지 저장\n",
    "            for j, image in enumerate(globals()[f\"image_augmented_list{i}\"]):\n",
    "                fname = fname_list[s_index + j].split(\".\")[0]\n",
    "                fname_save = f\"{fpath_save}{fname}_augmented_n{n}-p{i}-{j}.jpg\"\n",
    "                cv.imwrite(fname_save, image)\n",
    "                print(f\"증강 이미지 저장: {fname_save}\")\n",
    "\n",
    "            # # 원본 이미지 출력\n",
    "            # image_rows = 1\n",
    "            # image_columns = len(image_list)\n",
    "            # plt.figure(figsize=(25, 25))\n",
    "            # for k in range(image_rows * image_columns):\n",
    "            #     image_index = k + 1\n",
    "            #     image_title = \"image {}\".format(image_index)\n",
    "\n",
    "            #     plt.subplot(image_rows, image_columns, image_index)\n",
    "            #     plt.title(image_title)\n",
    "            #     plt.xticks([])  # x = None\n",
    "            #     plt.yticks([])  # y = None\n",
    "            #     plt.imshow(image_list[k])\n",
    "\n",
    "            # 증강 이미지 출력\n",
    "            image_rows = 1\n",
    "            image_columns = len(image_list)\n",
    "            plt.figure(figsize=(25, 25))\n",
    "            for k in range(image_rows * image_columns):\n",
    "                image_index = k + 1\n",
    "                image_title = \"image_augmented {}\".format(image_index)\n",
    "\n",
    "                plt.subplot(image_rows, image_columns, image_index)\n",
    "                plt.title(image_title)\n",
    "                plt.xticks([])  # x = None\n",
    "                plt.yticks([])  # y = None\n",
    "                plt.imshow(globals()[f\"image_augmented_list{i}\"][k])\n",
    "\n",
    "            plt.show()"
   ]
  },
  {
   "cell_type": "code",
   "execution_count": 11,
   "metadata": {},
   "outputs": [],
   "source": [
    "# augment_images_with_my_pipeline_list(s_index=0, e_index=4, n_iteration=10)"
   ]
  },
  {
   "cell_type": "markdown",
   "metadata": {},
   "source": [
    "##### 다수의 Augrapy User Defined Pipeline + Albumatation 적용"
   ]
  },
  {
   "cell_type": "code",
   "execution_count": 12,
   "metadata": {},
   "outputs": [],
   "source": [
    "# # 이미지 크기 확인\n",
    "# for i in range(10):\n",
    "#     image = cv.imread(fpath_load + fname_list[i])\n",
    "\n",
    "#     height, width, channels = image.shape\n",
    "#     print(f\"Index{i} Width: {width}, Height: {height}, Channels: {channels}\")"
   ]
  },
  {
   "cell_type": "code",
   "execution_count": 13,
   "metadata": {},
   "outputs": [],
   "source": [
    "from augraphy import *\n",
    "from augraphy.default.pipeline import *\n",
    "from MyAugraphyPipeline import *\n",
    "import albumentations as A\n",
    "\n",
    "\n",
    "# 이미지 증강 함수\n",
    "# - 사용자 정의 파이프라인 10개를 1번 돌림\n",
    "def augment_images_with_albumentations(s_index=0, e_index=1569, n_iteration=10):\n",
    "    # Make Pipelines for Augraphy\n",
    "    pipeline_list = [\n",
    "        # 미리 정의된 함수\n",
    "        # pipeline_archetype1(),\n",
    "        # pipeline_archetype2(),\n",
    "        # pipeline_archetype3(),\n",
    "        # pipeline_archetype4(),\n",
    "        # pipeline_archetype5(),\n",
    "        # pipeline_archetype6(),\n",
    "        # pipeline_archetype7(),\n",
    "        # # pipeline_archetype8(), # 오류\n",
    "        # pipeline_archetype9(),\n",
    "        # pipeline_archetype10(),\n",
    "        # 사용자 정의 함수 (*현재 my_augraphy_pipeline1만 구현)\n",
    "        my_augraphy_pipeline1(),\n",
    "        # my_augraphy_pipeline2(),\n",
    "        # my_augraphy_pipeline3(),\n",
    "        # my_augraphy_pipeline4(),\n",
    "        # my_augraphy_pipeline5(),\n",
    "    ]\n",
    "\n",
    "    image_list = []\n",
    "    for i in range(s_index, e_index + 1):\n",
    "        # 원본 이미지 파일명 리스트 생성\n",
    "        image_list.append(cv.imread(fpath_load + fname_list[i]))\n",
    "        # 원본 이미지 저장\n",
    "        cv.imwrite(fpath_save + fname_list[i], image_list[i - s_index])\n",
    "        print(f\"원본 이미지 저장: {fpath_save}{fname_list[i]}\")\n",
    "\n",
    "    # albumentations 증강 파이프라인 정의\n",
    "    transform = A.Compose(\n",
    "        [\n",
    "            # 회전 변환\n",
    "            A.Rotate(\n",
    "                limit=360, border_mode=cv.BORDER_CONSTANT, value=(255, 255, 255), p=0.5\n",
    "            ),  # 360도 이내 회전, 빈 공간을 흰색으로 채움, 항상 적용\n",
    "            # 크롭 변환 (중앙 크롭)\n",
    "            # A.CenterCrop(height=224, width=224, p=0.5),  # 중앙 크롭, 항상 적용\n",
    "            # 추가적인 변환 (선택적)\n",
    "            A.RandomBrightnessContrast(p=0.5),  # 밝기/대비 조정\n",
    "            A.HorizontalFlip(p=0.5),  # 좌우 반전\n",
    "            A.ShiftScaleRotate(\n",
    "                shift_limit=0.1,\n",
    "                scale_limit=0.1,\n",
    "                rotate_limit=45,\n",
    "                border_mode=cv.BORDER_CONSTANT,  # 빈 공간을 고정된 색상으로 채움\n",
    "                value=(255, 255, 255),  # 빈 공간을 흰색으로 채움\n",
    "                p=0.25,  # 항상 적용\n",
    "            ),  # 이동, 확대/축소 및 추가 회전\n",
    "        ]\n",
    "    )\n",
    "\n",
    "    # Make Batches of Images\n",
    "    for n in range(n_iteration):\n",
    "        for i, pipeline in enumerate(pipeline_list):\n",
    "            # Augraphy 증강 적용\n",
    "            image_augmented_list = pipeline(image_list)\n",
    "\n",
    "            # Almumentations 증강 적용 및 이미지 저장\n",
    "            image_transformed_list = []\n",
    "            for j, image in enumerate(image_augmented_list):\n",
    "                # Almumentations 증강 적용\n",
    "                transformed = transform(image=image)\n",
    "                image_transformed = transformed[\"image\"]  # 이미지 데이터를 추출\n",
    "                image_transformed_rgb = cv.cvtColor(image_transformed, cv.COLOR_BGR2RGB)\n",
    "                # image_transformed_list.append(image_transformed_rgb)\n",
    "\n",
    "                # 이미지 저장\n",
    "                fname = fname_list[s_index + j].split(\".\")[0]\n",
    "                fname_save = f\"{fpath_save}{fname}_transformed_n{n}-p{i}-i{j}.jpg\"\n",
    "                cv.imwrite(fname_save, image_transformed_rgb)\n",
    "                print(f\"증강 이미지 저장: {fname_save}\")\n",
    "\n",
    "            # # 원본 이미지 출력\n",
    "            # image_rows = 1\n",
    "            # image_columns = len(image_list)\n",
    "            # plt.figure(figsize=(25, 25))\n",
    "            # for k in range(image_rows * image_columns):\n",
    "            #     image_index = k + 1\n",
    "            #     image_title = \"image {}\".format(image_index)\n",
    "\n",
    "            #     plt.subplot(image_rows, image_columns, image_index)\n",
    "            #     plt.title(image_title)\n",
    "            #     plt.xticks([])  # x = None\n",
    "            #     plt.yticks([])  # y = None\n",
    "            #     plt.imshow(image_list[k])\n",
    "            #     plt.show()\n",
    "\n",
    "            # # 증강 이미지 출력\n",
    "            # image_rows = 1\n",
    "            # image_columns = len(image_transformed_list)\n",
    "            # plt.figure(figsize=(25, 25))\n",
    "            # for k in range(image_rows * image_columns):\n",
    "            #     image_index = k + 1\n",
    "            #     image_title = \"image_transformed {}\".format(image_index)\n",
    "\n",
    "            #     plt.subplot(image_rows, image_columns, image_index)\n",
    "            #     plt.title(image_title)\n",
    "            #     plt.xticks([])  # x = None\n",
    "            #     plt.yticks([])  # y = None\n",
    "            #     plt.imshow(image_transformed_list[k])\n",
    "            #     plt.show()"
   ]
  },
  {
   "cell_type": "code",
   "execution_count": 14,
   "metadata": {},
   "outputs": [
    {
     "name": "stdout",
     "output_type": "stream",
     "text": [
      "원본 이미지 저장: ../data/train_augmented_tmp/002f99746285dfdd.jpg\n",
      "증강 이미지 저장: ../data/train_augmented_tmp/002f99746285dfdd_transformed_n0-p0-i0.jpg\n"
     ]
    }
   ],
   "source": [
    "augment_images_with_albumentations(s_index=0, e_index=0, n_iteration=5)"
   ]
  },
  {
   "cell_type": "code",
   "execution_count": null,
   "metadata": {},
   "outputs": [],
   "source": [
    "augment_labels()"
   ]
  }
 ],
 "metadata": {
  "kernelspec": {
   "display_name": "py38-torch",
   "language": "python",
   "name": "python3"
  },
  "language_info": {
   "codemirror_mode": {
    "name": "ipython",
    "version": 3
   },
   "file_extension": ".py",
   "mimetype": "text/x-python",
   "name": "python",
   "nbconvert_exporter": "python",
   "pygments_lexer": "ipython3",
   "version": "3.10.13"
  }
 },
 "nbformat": 4,
 "nbformat_minor": 2
}
