{
 "cells": [
  {
   "cell_type": "markdown",
   "metadata": {},
   "source": [
    "### Data Augumentation - Augraphy"
   ]
  },
  {
   "cell_type": "markdown",
   "metadata": {},
   "source": [
    "> **⚠️실행 전 주의 사항⚠️**\n",
    "- 증강된 이미지를 저장할 경로를 설정합니다.\n",
    "- 증강된 이미지 생성을 위해 함수 `augment_images()`의 `매개변수(s_index, e_index, n_iteration)`를 지정합니다.\n",
    "    - `s_index`: 이미지 증강을 실행할 원본 이미지 시작 인덱스 (0부터 시작)\n",
    "    - `e_index`: 이미지 증강을 수행할 원본 이미지 마지막 인덱스\n",
    "    - `n_interation`: 이미지 증강 수행 횟수 (무작위성이 있음)\n",
    "- 증강된 이미지 레이블을 저장할 경로를 설정합니다. \n",
    "- 증강된 이미지 레이블을 저장할 파일명(*.csv)을 설정합니다."
   ]
  },
  {
   "cell_type": "markdown",
   "metadata": {},
   "source": [
    "#### 1) 라이브러리 다운로드 및 임포트"
   ]
  },
  {
   "cell_type": "code",
   "execution_count": null,
   "metadata": {},
   "outputs": [],
   "source": [
    "# !pip install augraphy\n",
    "# !pip install albumentations"
   ]
  },
  {
   "cell_type": "code",
   "execution_count": null,
   "metadata": {},
   "outputs": [],
   "source": [
    "import os\n",
    "\n",
    "import cv2 as cv\n",
    "import numpy as np\n",
    "import matplotlib.pyplot as plt\n",
    "import pandas as pd"
   ]
  },
  {
   "cell_type": "code",
   "execution_count": null,
   "metadata": {},
   "outputs": [],
   "source": [
    "# 원본 이미지 경로 탐색 및 파일명 추출\n",
    "fpath_load = \"../data/train/\"\n",
    "fname_list = os.listdir(fpath_load)\n",
    "fname_list.sort()\n",
    "print(\"원본 이미지 개수: \", len(fname_list))\n",
    "\n",
    "# 증강 이미지 저장 경로 설정\n",
    "fpath_save = \"../data/train_augmented_tmp/\"\n",
    "# fpath_save = \"../data/train_augmented/\"\n",
    "if not os.path.exists(fpath_save):\n",
    "    os.makedirs(fpath_save)"
   ]
  },
  {
   "cell_type": "markdown",
   "metadata": {},
   "source": [
    "#### 2) Augraphy with Default Pipeline"
   ]
  },
  {
   "cell_type": "code",
   "execution_count": null,
   "metadata": {},
   "outputs": [],
   "source": [
    "from augraphy import *\n",
    "\n",
    "\n",
    "# 이미지 증강\n",
    "def augment_images_default(s_index=0, e_index=1569, n_iteration=10):\n",
    "    # Make Pipeline for Augraphy\n",
    "    pipeline = default_augraphy_pipeline()\n",
    "\n",
    "    # Make Batches of Images\n",
    "    image_list = []\n",
    "    for i in range(s_index, e_index + 1):\n",
    "        # 원본 이미지 파일명 리스트 생성\n",
    "        image_list.append(cv.imread(fpath_load + fname_list[i]))\n",
    "        # 원본 이미지 저장\n",
    "        cv.imwrite(fpath_save + fname_list[i], image_list[i - s_index])\n",
    "        print(f\"원본 이미지 저장: {fpath_save}{fname_list[i]}\")\n",
    "\n",
    "    # Augument Images\n",
    "    for i in range(1, n_iteration + 1):\n",
    "        # 이미지 증강\n",
    "        image_augmented_list = pipeline(image_list)\n",
    "\n",
    "        for j, image in enumerate(image_augmented_list):\n",
    "            # 증강 이미지 저장\n",
    "            fname = fname_list[s_index + j].split(\".\")[0]\n",
    "            fname_save = f\"{fpath_save}{fname}_{i}.jpg\"\n",
    "            cv.imwrite(fname_save, image)\n",
    "            print(f\"증강 이미지 저장: {fname_save}\")\n",
    "\n",
    "    return image_augmented_list"
   ]
  },
  {
   "cell_type": "code",
   "execution_count": null,
   "metadata": {},
   "outputs": [],
   "source": [
    "# # 이미지 증강 실행\n",
    "# augment_images_default(s_index=0, e_index=4, n_iteration=10)"
   ]
  },
  {
   "cell_type": "markdown",
   "metadata": {},
   "source": [
    "#### 데이터 레이블 저장"
   ]
  },
  {
   "cell_type": "code",
   "execution_count": null,
   "metadata": {},
   "outputs": [],
   "source": [
    "def augment_labels():\n",
    "\n",
    "    fname_augmented_path = fpath_save\n",
    "    fname_augmented_list = os.listdir(fname_augmented_path)\n",
    "    fname_augmented_list.sort()\n",
    "\n",
    "    df_train_augmented = pd.DataFrame(columns=[[\"ID\", \"target\"]])\n",
    "    df_train_augmented[\"ID\"] = fname_augmented_list\n",
    "    # print(df_train_augmented)\n",
    "\n",
    "    df_train = pd.read_csv(\"../data/train.csv\")\n",
    "    df_train = df_train.set_index(\"ID\").T.to_dict()\n",
    "\n",
    "    for i in range(len(df_train_augmented)):\n",
    "        df_train_augmented_ID = df_train_augmented.iloc[i][\"ID\"]\n",
    "        df_train_augmented_ID = (\n",
    "            df_train_augmented_ID.replace(\"_\", \".\").split(\".\")[0] + \".jpg\"\n",
    "        )\n",
    "\n",
    "        for key, value in df_train.items():\n",
    "            if df_train_augmented_ID == key:\n",
    "                df_train_augmented.at[i, \"target\"] = value[\"target\"]\n",
    "\n",
    "    print(\"원본 + 증강 이미지 개수: \", df_train_augmented.shape[0])\n",
    "    print(\"결측치\")\n",
    "    print(df_train_augmented.isnull().sum())\n",
    "\n",
    "    df_train_augmented.to_csv(\"../data/train_augmented_tmp.csv\", index=False)\n",
    "    # df_train_augmented.to_csv(\"../data/train_augmented.csv\", index=False)"
   ]
  },
  {
   "cell_type": "code",
   "execution_count": null,
   "metadata": {},
   "outputs": [],
   "source": [
    "# augment_labels()"
   ]
  },
  {
   "cell_type": "markdown",
   "metadata": {},
   "source": [
    "#### 3) Augraphy - User Defined Pipeline"
   ]
  },
  {
   "cell_type": "markdown",
   "metadata": {},
   "source": [
    "##### 하나의 Augraphy User Defined Pipeline"
   ]
  },
  {
   "cell_type": "code",
   "execution_count": null,
   "metadata": {},
   "outputs": [],
   "source": [
    "from augraphy import *\n",
    "from MyAugraphyPipeline import *\n",
    "\n",
    "\n",
    "# 이미지 증강 함수\n",
    "# - 사용자 정의 파이프라인을 10번 수행 (매개변수로 지정한 범위 내에서 랜덤하게 수행)\n",
    "def augment_images_with_my_pipeline_one(s_index=0, e_index=1569, n_iteration=10):\n",
    "    # Make Pipeline for Augraphy\n",
    "    pipeline = my_augraphy_pipeline()\n",
    "\n",
    "    # Make Batches of Images\n",
    "    image_list = []\n",
    "    for i in range(s_index, e_index + 1):\n",
    "        # 원본 이미지 파일명 리스트 생성\n",
    "        image_list.append(fpath_load + fname_list[i])\n",
    "\n",
    "        # 원본 이미지 저장\n",
    "        cv.imwrite(fpath_save + fname_list[i], image_list[i - s_index])\n",
    "        print(f\"원본 이미지 저장: {fpath_save}{fname_list[i]}\")\n",
    "\n",
    "    # Augument Images\n",
    "    for i in range(1, n_iteration + 1):\n",
    "        # 이미지 증강\n",
    "        image_augmented_list = pipeline(image_list)\n",
    "\n",
    "        for j, image in enumerate(image_augmented_list):\n",
    "            # 증강 이미지 저장\n",
    "            fname = fname_list[s_index + j].split(\".\")[0]\n",
    "            fname_save = f\"{fpath_save}{fname}_augmented_{i}.jpg\"\n",
    "            cv.imwrite(fname_save, image)\n",
    "            print(f\"증강 이미지 저장: {fname_save}\")"
   ]
  },
  {
   "cell_type": "code",
   "execution_count": null,
   "metadata": {},
   "outputs": [],
   "source": [
    "# augment_images_with_my_pipeline_one(s_index=0, e_index=1, n_iteration=10)"
   ]
  },
  {
   "cell_type": "markdown",
   "metadata": {},
   "source": [
    "##### 다수의 Augraphy User Defined Pipeline"
   ]
  },
  {
   "cell_type": "code",
   "execution_count": null,
   "metadata": {},
   "outputs": [],
   "source": [
    "from augraphy import *\n",
    "from augraphy.default.pipeline import *\n",
    "from MyAugraphyPipeline import *\n",
    "\n",
    "\n",
    "# 이미지 증강 함수\n",
    "# - 사용자 정의 파이프라인 10개를 1번 돌림\n",
    "def augment_images_with_my_pipeline_list(s_index=0, e_index=1569, n_iteration=10):\n",
    "    # Make Pipelines for Augraphy\n",
    "    pipeline_list = [\n",
    "        # 미리 정의된 함수\n",
    "        # pipeline_archetype1(),\n",
    "        # pipeline_archetype2(),\n",
    "        # pipeline_archetype3(),\n",
    "        # pipeline_archetype4(),\n",
    "        # pipeline_archetype5(),\n",
    "        # pipeline_archetype6(),\n",
    "        # pipeline_archetype7(),\n",
    "        # # pipeline_archetype8(), # 오류\n",
    "        # pipeline_archetype9(),\n",
    "        # pipeline_archetype10(),\n",
    "        # 사용자 정의 함수 (*현재 my_augraphy_pipeline1만 구현)\n",
    "        my_augraphy_pipeline1(),\n",
    "        # my_augraphy_pipeline2(),\n",
    "        # my_augraphy_pipeline3(),\n",
    "        # my_augraphy_pipeline4(),\n",
    "        # my_augraphy_pipeline5(),\n",
    "    ]\n",
    "\n",
    "    image_list = []\n",
    "    for i in range(s_index, e_index + 1):\n",
    "        # 원본 이미지 파일명 리스트 생성\n",
    "        image_list.append(cv.imread(fpath_load + fname_list[i]))\n",
    "        # 원본 이미지 저장\n",
    "        cv.imwrite(fpath_save + fname_list[i], image_list[i - s_index])\n",
    "        print(f\"원본 이미지 저장: {fpath_save}{fname_list[i]}\")\n",
    "\n",
    "    # Make Batches of Images\n",
    "    for n in range(n_iteration):\n",
    "        # Augument Images\n",
    "        ## 첫번째 파이프라인 실행 → 두번째 파이프라인 실행 → ...\n",
    "        for i in range(len(pipeline_list)):\n",
    "            # 사용자 정의 파이프라인을 통한 이미지 증강\n",
    "            globals()[f\"pipeline{i}\"] = pipeline_list[i]\n",
    "            globals()[f\"image_augmented_list{i}\"] = globals()[f\"pipeline{i}\"](\n",
    "                image_list\n",
    "            )\n",
    "\n",
    "            # 증강 이미지 저장\n",
    "            for j, image in enumerate(globals()[f\"image_augmented_list{i}\"]):\n",
    "                fname = fname_list[s_index + j].split(\".\")[0]\n",
    "                fname_save = f\"{fpath_save}{fname}_augmented_n{n}-p{i}-{j}.jpg\"\n",
    "                cv.imwrite(fname_save, image)\n",
    "                print(f\"증강 이미지 저장: {fname_save}\")\n",
    "\n",
    "            # # 원본 이미지 출력\n",
    "            # image_rows = 1\n",
    "            # image_columns = len(image_list)\n",
    "            # plt.figure(figsize=(25, 25))\n",
    "            # for k in range(image_rows * image_columns):\n",
    "            #     image_index = k + 1\n",
    "            #     image_title = \"image {}\".format(image_index)\n",
    "\n",
    "            #     plt.subplot(image_rows, image_columns, image_index)\n",
    "            #     plt.title(image_title)\n",
    "            #     plt.xticks([])  # x = None\n",
    "            #     plt.yticks([])  # y = None\n",
    "            #     plt.imshow(image_list[k])\n",
    "\n",
    "            # 증강 이미지 출력\n",
    "            image_rows = 1\n",
    "            image_columns = len(image_list)\n",
    "            plt.figure(figsize=(25, 25))\n",
    "            for k in range(image_rows * image_columns):\n",
    "                image_index = k + 1\n",
    "                image_title = \"image_augmented {}\".format(image_index)\n",
    "\n",
    "                plt.subplot(image_rows, image_columns, image_index)\n",
    "                plt.title(image_title)\n",
    "                plt.xticks([])  # x = None\n",
    "                plt.yticks([])  # y = None\n",
    "                plt.imshow(globals()[f\"image_augmented_list{i}\"][k])\n",
    "\n",
    "            plt.show()"
   ]
  },
  {
   "cell_type": "code",
   "execution_count": null,
   "metadata": {},
   "outputs": [],
   "source": [
    "# augment_images_with_my_pipeline_list(s_index=0, e_index=4, n_iteration=10)"
   ]
  },
  {
   "cell_type": "markdown",
   "metadata": {},
   "source": [
    "##### 다수의 Augrapy User Defined Pipeline + Albumatation 적용"
   ]
  },
  {
   "cell_type": "code",
   "execution_count": null,
   "metadata": {},
   "outputs": [],
   "source": [
    "# # 이미지 크기 확인\n",
    "# for i in range(10):\n",
    "#     image = cv.imread(fpath_load + fname_list[i])\n",
    "\n",
    "#     height, width, channels = image.shape\n",
    "#     print(f\"Index{i} Width: {width}, Height: {height}, Channels: {channels}\")"
   ]
  },
  {
   "cell_type": "code",
   "execution_count": null,
   "metadata": {},
   "outputs": [],
   "source": [
    "df = pd.read_csv(\"../data/train.csv\")\n",
    "target_values = [3, 4, 7, 14]\n",
    "target_filtered_list = df[df[\"target\"].isin(target_values)][\"ID\"].tolist()\n",
    "\n",
    "print(target_filtered_list)"
   ]
  },
  {
   "cell_type": "code",
   "execution_count": null,
   "metadata": {},
   "outputs": [],
   "source": [
    "from augraphy import *\n",
    "from augraphy.default.pipeline import *\n",
    "from MyAugraphyPipeline import *\n",
    "import albumentations as A\n",
    "\n",
    "\n",
    "# 이미지 증강 함수\n",
    "# - 사용자 정의 파이프라인 10개를 1번 돌림\n",
    "def augment_images_with_albumentations(s_index=0, e_index=1569, n_iteration=10):\n",
    "    if e_index > len(target_filtered_list) - 1:\n",
    "        print(\"오류! 인덱스 확인 요망\")\n",
    "        return\n",
    "\n",
    "    # Make Pipelines for Augraphy\n",
    "    pipeline_list = [\n",
    "        # 미리 정의된 함수\n",
    "        # pipeline_archetype1(),\n",
    "        # pipeline_archetype2(),\n",
    "        # pipeline_archetype3(),\n",
    "        # pipeline_archetype4(),\n",
    "        # pipeline_archetype5(),\n",
    "        # pipeline_archetype6(),\n",
    "        # pipeline_archetype7(),\n",
    "        # # pipeline_archetype8(), # 오류\n",
    "        # pipeline_archetype9(),\n",
    "        # pipeline_archetype10(),\n",
    "        # 사용자 정의 함수 (*현재 my_augraphy_pipeline1만 구현)\n",
    "        my_augraphy_pipeline1(),\n",
    "        # my_augraphy_pipeline2(),\n",
    "        # my_augraphy_pipeline3(),\n",
    "        # my_augraphy_pipeline4(),\n",
    "        # my_augraphy_pipeline5(),\n",
    "    ]\n",
    "\n",
    "    # albumentations 증강 파이프라인 정의\n",
    "    transform = A.Compose(\n",
    "        [\n",
    "            # 회전 변환\n",
    "            A.Rotate(\n",
    "                limit=360, border_mode=cv.BORDER_CONSTANT, value=(255, 255, 255), p=0.5\n",
    "            ),  # 360도 이내 회전, 빈 공간을 흰색으로 채움, 항상 적용\n",
    "            # 크롭 변환 (중앙 크롭)\n",
    "            # A.CenterCrop(height=224, width=224, p=0.5),  # 중앙 크롭, 항상 적용\n",
    "            # 추가적인 변환 (선택적)\n",
    "            A.RandomBrightnessContrast(p=0.5),  # 밝기/대비 조정\n",
    "            A.HorizontalFlip(p=0.5),  # 좌우 반전\n",
    "            A.ShiftScaleRotate(\n",
    "                shift_limit=0.1,\n",
    "                scale_limit=0.1,\n",
    "                rotate_limit=45,\n",
    "                border_mode=cv.BORDER_CONSTANT,  # 빈 공간을 고정된 색상으로 채움\n",
    "                value=(255, 255, 255),  # 빈 공간을 흰색으로 채움\n",
    "                p=0.25,  # 항상 적용\n",
    "            ),  # 이동, 확대/축소 및 추가 회전\n",
    "        ]\n",
    "    )\n",
    "\n",
    "    image_list = []\n",
    "    for i in range(s_index, e_index + 1):\n",
    "        # 이미지 리스트 생성\n",
    "        image_list.append(cv.imread(fpath_load + target_filtered_list[i]))\n",
    "        # 이미지 저장\n",
    "        cv.imwrite(fpath_save + target_filtered_list[i], image_list[i])\n",
    "        print(f\"원본 이미지 저장: {fpath_save}{target_filtered_list[i]}\")\n",
    "\n",
    "    # Make Batches of Images\n",
    "    for n in range(n_iteration):\n",
    "        for i, pipeline in enumerate(pipeline_list):\n",
    "            # Augraphy 증강 적용\n",
    "            image_augmented_list = pipeline(image_list)\n",
    "\n",
    "            # Almumentations 증강 적용 및 이미지 저장\n",
    "            image_transformed_list = []\n",
    "            for j, image in enumerate(image_augmented_list):\n",
    "                # Almumentations 증강 적용\n",
    "                transformed = transform(image=image)\n",
    "                image_transformed = transformed[\"image\"]  # 이미지 데이터를 추출\n",
    "                image_transformed_rgb = cv.cvtColor(image_transformed, cv.COLOR_BGR2RGB)\n",
    "                image_transformed_list.append(image_transformed_rgb)\n",
    "\n",
    "                # 이미지 저장\n",
    "                fname = target_filtered_list[s_index + j].split(\".\")[0]\n",
    "                fname_save = f\"{fpath_save}{fname}_transformed_n{n}_p{i}.jpg\"\n",
    "                cv.imwrite(fname_save, image_transformed_rgb)\n",
    "                print(f\"증강 이미지 저장: {fname_save}\")\n",
    "\n",
    "            # # 원본 이미지 출력\n",
    "            # image_rows = 1\n",
    "            # image_columns = len(image_list)\n",
    "            # plt.figure(figsize=(25, 25))\n",
    "            # for k in range(image_rows * image_columns):\n",
    "            #     image_index = k + 1\n",
    "            #     image_title = \"image {}\".format(image_index)\n",
    "\n",
    "            #     plt.subplot(image_rows, image_columns, image_index)\n",
    "            #     plt.title(image_title)\n",
    "            #     plt.xticks([])  # x = None\n",
    "            #     plt.yticks([])  # y = None\n",
    "            #     plt.imshow(image_list[k])\n",
    "            #     plt.show()\n",
    "\n",
    "            # # 증강 이미지 출력\n",
    "            # image_rows = 1\n",
    "            # image_columns = len(image_transformed_list)\n",
    "            # plt.figure(figsize=(25, 25))\n",
    "            # for k in range(image_rows * image_columns):\n",
    "            #     image_index = k + 1\n",
    "            #     image_title = \"image_transformed {}\".format(image_index)\n",
    "\n",
    "            #     plt.subplot(image_rows, image_columns, image_index)\n",
    "            #     plt.title(image_title)\n",
    "            #     plt.xticks([])  # x = None\n",
    "            #     plt.yticks([])  # y = None\n",
    "            #     plt.imshow(image_transformed_list[k])\n",
    "            #     plt.show()"
   ]
  },
  {
   "cell_type": "code",
   "execution_count": null,
   "metadata": {},
   "outputs": [],
   "source": [
    "augment_images_with_albumentations(n_iteration=5)"
   ]
  },
  {
   "cell_type": "code",
   "execution_count": null,
   "metadata": {},
   "outputs": [],
   "source": [
    "augment_images_with_albumentations(\n",
    "    s_index=0, e_index=len(target_filtered_list) - 1, n_iteration=5\n",
    ")"
   ]
  },
  {
   "cell_type": "code",
   "execution_count": null,
   "metadata": {},
   "outputs": [],
   "source": [
    "augment_labels()"
   ]
  }
 ],
 "metadata": {
  "kernelspec": {
   "display_name": "py38-torch",
   "language": "python",
   "name": "python3"
  },
  "language_info": {
   "codemirror_mode": {
    "name": "ipython",
    "version": 3
   },
   "file_extension": ".py",
   "mimetype": "text/x-python",
   "name": "python",
   "nbconvert_exporter": "python",
   "pygments_lexer": "ipython3",
   "version": "3.8.19"
  }
 },
 "nbformat": 4,
 "nbformat_minor": 2
}
