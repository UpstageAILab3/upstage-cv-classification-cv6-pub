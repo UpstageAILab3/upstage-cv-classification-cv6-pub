{
 "cells": [
  {
   "cell_type": "markdown",
   "metadata": {},
   "source": [
    "### Data Augumentation - Augraphy"
   ]
  },
  {
   "cell_type": "markdown",
   "metadata": {},
   "source": [
    "#### 1) 패키지/라이브러리 다운로드 및 임포트"
   ]
  },
  {
   "cell_type": "code",
   "execution_count": 1,
   "metadata": {},
   "outputs": [],
   "source": [
    "# !pip install augraphy"
   ]
  },
  {
   "cell_type": "code",
   "execution_count": 2,
   "metadata": {},
   "outputs": [],
   "source": [
    "import os\n",
    "\n",
    "import cv2 as cv\n",
    "import numpy as np\n",
    "import matplotlib.pyplot as plt"
   ]
  },
  {
   "cell_type": "markdown",
   "metadata": {},
   "source": [
    "#### 2) Augraphy - Default Pipeline\n",
    " - Random"
   ]
  },
  {
   "cell_type": "code",
   "execution_count": 3,
   "metadata": {},
   "outputs": [
    {
     "name": "stdout",
     "output_type": "stream",
     "text": [
      "1570\n"
     ]
    }
   ],
   "source": [
    "# 원본 이미지 경로 탐색 및 파일명 추출\n",
    "fpath_load = \"../data/train/\"\n",
    "fname_list = os.listdir(fpath_load)\n",
    "fname_list.sort()\n",
    "print(len(fname_list))\n",
    "\n",
    "# 증강 이미지 저장 경로 설정\n",
    "fpath_save = \"../data/train_augmented/\"\n",
    "if not os.path.exists(fpath_save):\n",
    "    os.makedirs(fpath_save)"
   ]
  },
  {
   "cell_type": "code",
   "execution_count": 4,
   "metadata": {},
   "outputs": [],
   "source": [
    "from augraphy import *\n",
    "\n",
    "\n",
    "# 이미지 증강\n",
    "def augment_images(image_augmented_batch=10, image_augmented_iteration=5):\n",
    "    # Make Pipeline for Augraphy\n",
    "    pipeline = default_augraphy_pipeline()\n",
    "\n",
    "    # Make Batches of Images\n",
    "    image_list = []\n",
    "    for i in range(image_augmented_batch):\n",
    "        image_list.append(cv.imread(fpath_load + fname_list[i]))\n",
    "        # 원본 이미지 저장\n",
    "        cv.imwrite(fpath_save + fname_list[i], image_list[i])\n",
    "        print(f\"원본 이미지 저장: {fpath_save}{fname_list[i]}\")\n",
    "\n",
    "    # Augument Images\n",
    "    for i in range(1, image_augmented_iteration + 1):\n",
    "\n",
    "        # 이미지 증강\n",
    "        image_augmented_list = pipeline(image_list)\n",
    "\n",
    "        for j, image in enumerate(image_augmented_list):\n",
    "            # 증강 이미지 저장\n",
    "            fname = fname_list[j].split(\".\")[0]\n",
    "            fname_save = f\"{fpath_save}{fname}_{i}.jpg\"\n",
    "            cv.imwrite(fname_save, image)\n",
    "            print(f\"증강 이미지 저장: {fname_save}\")\n",
    "\n",
    "    return image_augmented_list"
   ]
  },
  {
   "cell_type": "code",
   "execution_count": 5,
   "metadata": {},
   "outputs": [
    {
     "name": "stdout",
     "output_type": "stream",
     "text": [
      "원본 이미지 저장: ../data/train_augmented/002f99746285dfdd.jpg\n",
      "원본 이미지 저장: ../data/train_augmented/008ccd231e1fea5d.jpg\n",
      "원본 이미지 저장: ../data/train_augmented/008f5911bfda7695.jpg\n",
      "원본 이미지 저장: ../data/train_augmented/009235e4c9c07af5.jpg\n",
      "원본 이미지 저장: ../data/train_augmented/00b2f44967580c74.jpg\n"
     ]
    },
    {
     "name": "stderr",
     "output_type": "stream",
     "text": [
      "OMP: Info #276: omp_set_nested routine deprecated, please use omp_set_max_active_levels instead.\n"
     ]
    },
    {
     "name": "stdout",
     "output_type": "stream",
     "text": [
      "증강 이미지 저장: ../data/train_augmented/002f99746285dfdd_1.jpg\n",
      "증강 이미지 저장: ../data/train_augmented/008ccd231e1fea5d_1.jpg\n",
      "증강 이미지 저장: ../data/train_augmented/008f5911bfda7695_1.jpg\n",
      "증강 이미지 저장: ../data/train_augmented/009235e4c9c07af5_1.jpg\n",
      "증강 이미지 저장: ../data/train_augmented/00b2f44967580c74_1.jpg\n",
      "증강 이미지 저장: ../data/train_augmented/002f99746285dfdd_2.jpg\n",
      "증강 이미지 저장: ../data/train_augmented/008ccd231e1fea5d_2.jpg\n",
      "증강 이미지 저장: ../data/train_augmented/008f5911bfda7695_2.jpg\n",
      "증강 이미지 저장: ../data/train_augmented/009235e4c9c07af5_2.jpg\n",
      "증강 이미지 저장: ../data/train_augmented/00b2f44967580c74_2.jpg\n",
      "증강 이미지 저장: ../data/train_augmented/002f99746285dfdd_3.jpg\n",
      "증강 이미지 저장: ../data/train_augmented/008ccd231e1fea5d_3.jpg\n",
      "증강 이미지 저장: ../data/train_augmented/008f5911bfda7695_3.jpg\n",
      "증강 이미지 저장: ../data/train_augmented/009235e4c9c07af5_3.jpg\n",
      "증강 이미지 저장: ../data/train_augmented/00b2f44967580c74_3.jpg\n"
     ]
    }
   ],
   "source": [
    "# image_augmented_list = augment_images(\n",
    "#     image_augmented_batch=len(fname_list), image_augmented_iteration=10\n",
    "# )\n",
    "\n",
    "image_augmented_list = augment_images(\n",
    "    image_augmented_batch=5, image_augmented_iteration=3\n",
    ")"
   ]
  },
  {
   "cell_type": "markdown",
   "metadata": {},
   "source": [
    "#### 3) Augraphy - User Defined Pipeline"
   ]
  },
  {
   "cell_type": "code",
   "execution_count": null,
   "metadata": {},
   "outputs": [],
   "source": []
  }
 ],
 "metadata": {
  "kernelspec": {
   "display_name": "py38-torch",
   "language": "python",
   "name": "python3"
  },
  "language_info": {
   "codemirror_mode": {
    "name": "ipython",
    "version": 3
   },
   "file_extension": ".py",
   "mimetype": "text/x-python",
   "name": "python",
   "nbconvert_exporter": "python",
   "pygments_lexer": "ipython3",
   "version": "3.8.19"
  }
 },
 "nbformat": 4,
 "nbformat_minor": 2
}
