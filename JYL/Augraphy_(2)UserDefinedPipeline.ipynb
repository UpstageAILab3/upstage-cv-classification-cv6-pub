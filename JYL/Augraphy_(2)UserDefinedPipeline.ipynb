{
 "cells": [
  {
   "cell_type": "markdown",
   "metadata": {},
   "source": [
    "### Data Augumentation - Augraphy"
   ]
  },
  {
   "cell_type": "markdown",
   "metadata": {},
   "source": [
    "> **⚠️실행 전 주의 사항⚠️**\n",
    "- 증강된 이미지를 저장할 경로를 설정합니다.\n",
    "- 증강된 이미지 생성을 위해 함수 `augment_images()`의 `매개변수(s_index, e_index, n_iteration)`를 지정합니다.\n",
    "    - `s_index`: 이미지 증강을 실행할 원본 이미지 시작 인덱스 (0부터 시작)\n",
    "    - `e_index`: 이미지 증강을 수행할 원본 이미지 마지막 인덱스\n",
    "    - `n_interation`: 이미지 증강 수행 횟수 (무작위성이 있음)\n",
    "- 증강된 이미지 레이블을 저장할 경로를 설정합니다. \n",
    "- 증강된 이미지 레이블을 저장할 파일명(*.csv)을 설정합니다."
   ]
  },
  {
   "cell_type": "markdown",
   "metadata": {},
   "source": [
    "#### 1) 라이브러리 다운로드 및 임포트"
   ]
  },
  {
   "cell_type": "code",
   "execution_count": 1,
   "metadata": {},
   "outputs": [],
   "source": [
    "# !pip install augraphy\n",
    "# !pip install albumentations"
   ]
  },
  {
   "cell_type": "code",
   "execution_count": 2,
   "metadata": {},
   "outputs": [],
   "source": [
    "import os\n",
    "\n",
    "import cv2 as cv\n",
    "import numpy as np\n",
    "import matplotlib.pyplot as plt\n",
    "import pandas as pd"
   ]
  },
  {
   "cell_type": "code",
   "execution_count": 3,
   "metadata": {},
   "outputs": [
    {
     "name": "stdout",
     "output_type": "stream",
     "text": [
      "원본 이미지 개수:  1570\n"
     ]
    }
   ],
   "source": [
    "# 원본 이미지 경로 탐색 및 파일명 추출\n",
    "fpath_load = \"../data/train/\"\n",
    "fname_list = os.listdir(fpath_load)\n",
    "fname_list.sort()\n",
    "print(\"원본 이미지 개수: \", len(fname_list))\n",
    "\n",
    "# 증강 이미지 저장 경로 설정\n",
    "fpath_save = \"../data/train_augmented_tmp/\"\n",
    "# fpath_save = \"../data/train_augmented/\"\n",
    "if not os.path.exists(fpath_save):\n",
    "    os.makedirs(fpath_save)"
   ]
  },
  {
   "cell_type": "markdown",
   "metadata": {},
   "source": [
    "#### 2) Augraphy with Default Pipeline"
   ]
  },
  {
   "cell_type": "code",
   "execution_count": 4,
   "metadata": {},
   "outputs": [],
   "source": [
    "from augraphy import *\n",
    "\n",
    "\n",
    "# 이미지 증강\n",
    "def augment_images_default(s_index=0, e_index=1569, n_iteration=10):\n",
    "    # Make Pipeline for Augraphy\n",
    "    pipeline = default_augraphy_pipeline()\n",
    "\n",
    "    # Make Batches of Images\n",
    "    image_list = []\n",
    "    for i in range(s_index, e_index + 1):\n",
    "        # 원본 이미지 파일명 리스트 생성\n",
    "        image_list.append(cv.imread(fpath_load + fname_list[i]))\n",
    "        # 원본 이미지 저장\n",
    "        cv.imwrite(fpath_save + fname_list[i], image_list[i - s_index])\n",
    "        print(f\"원본 이미지 저장: {fpath_save}{fname_list[i]}\")\n",
    "\n",
    "    # Augument Images\n",
    "    for i in range(1, n_iteration + 1):\n",
    "        # 이미지 증강\n",
    "        image_augmented_list = pipeline(image_list)\n",
    "\n",
    "        for j, image in enumerate(image_augmented_list):\n",
    "            # 증강 이미지 저장\n",
    "            fname = fname_list[s_index + j].split(\".\")[0]\n",
    "            fname_save = f\"{fpath_save}{fname}_{i}.jpg\"\n",
    "            cv.imwrite(fname_save, image)\n",
    "            print(f\"증강 이미지 저장: {fname_save}\")\n",
    "\n",
    "    return image_augmented_list"
   ]
  },
  {
   "cell_type": "code",
   "execution_count": 5,
   "metadata": {},
   "outputs": [],
   "source": [
    "# # 이미지 증강 실행\n",
    "# augment_images_default(s_index=0, e_index=4, n_iteration=10)"
   ]
  },
  {
   "cell_type": "markdown",
   "metadata": {},
   "source": [
    "#### 데이터 레이블 저장"
   ]
  },
  {
   "cell_type": "code",
   "execution_count": 6,
   "metadata": {},
   "outputs": [],
   "source": [
    "def augment_labels():\n",
    "\n",
    "    fname_augmented_path = fpath_save\n",
    "    fname_augmented_list = os.listdir(fname_augmented_path)\n",
    "    fname_augmented_list.sort()\n",
    "\n",
    "    df_train_augmented = pd.DataFrame(columns=[[\"ID\", \"target\"]])\n",
    "    df_train_augmented[\"ID\"] = fname_augmented_list\n",
    "    # print(df_train_augmented)\n",
    "\n",
    "    df_train = pd.read_csv(\"../data/train.csv\")\n",
    "    df_train = df_train.set_index(\"ID\").T.to_dict()\n",
    "\n",
    "    for i in range(len(df_train_augmented)):\n",
    "        df_train_augmented_ID = df_train_augmented.iloc[i][\"ID\"]\n",
    "        df_train_augmented_ID = (\n",
    "            df_train_augmented_ID.replace(\"_\", \".\").split(\".\")[0] + \".jpg\"\n",
    "        )\n",
    "\n",
    "        for key, value in df_train.items():\n",
    "            if df_train_augmented_ID == key:\n",
    "                df_train_augmented.at[i, \"target\"] = value[\"target\"]\n",
    "\n",
    "    print(\"원본 + 증강 이미지 개수: \", df_train_augmented.shape[0])\n",
    "    print(\"결측치\")\n",
    "    print(df_train_augmented.isnull().sum())\n",
    "\n",
    "    df_train_augmented.to_csv(\"../data/train_augmented_tmp.csv\", index=False)\n",
    "    # df_train_augmented.to_csv(\"../data/train_augmented.csv\", index=False)"
   ]
  },
  {
   "cell_type": "code",
   "execution_count": 7,
   "metadata": {},
   "outputs": [],
   "source": [
    "# augment_labels()"
   ]
  },
  {
   "cell_type": "markdown",
   "metadata": {},
   "source": [
    "#### 3) Augraphy - User Defined Pipeline"
   ]
  },
  {
   "cell_type": "markdown",
   "metadata": {},
   "source": [
    "##### 하나의 Augraphy User Defined Pipeline"
   ]
  },
  {
   "cell_type": "code",
   "execution_count": 8,
   "metadata": {},
   "outputs": [],
   "source": [
    "from augraphy import *\n",
    "from MyAugraphyPipeline import *\n",
    "\n",
    "\n",
    "# 이미지 증강 함수\n",
    "# - 사용자 정의 파이프라인을 10번 수행 (매개변수로 지정한 범위 내에서 랜덤하게 수행)\n",
    "def augment_images_with_my_pipeline_one(s_index=0, e_index=1569, n_iteration=10):\n",
    "    # Make Pipeline for Augraphy\n",
    "    pipeline = my_augraphy_pipeline()\n",
    "\n",
    "    # Make Batches of Images\n",
    "    image_list = []\n",
    "    for i in range(s_index, e_index + 1):\n",
    "        # 원본 이미지 파일명 리스트 생성\n",
    "        image_list.append(fpath_load + fname_list[i])\n",
    "\n",
    "        # 원본 이미지 저장\n",
    "        cv.imwrite(fpath_save + fname_list[i], image_list[i - s_index])\n",
    "        print(f\"원본 이미지 저장: {fpath_save}{fname_list[i]}\")\n",
    "\n",
    "    # Augument Images\n",
    "    for i in range(1, n_iteration + 1):\n",
    "        # 이미지 증강\n",
    "        image_augmented_list = pipeline(image_list)\n",
    "\n",
    "        for j, image in enumerate(image_augmented_list):\n",
    "            # 증강 이미지 저장\n",
    "            fname = fname_list[s_index + j].split(\".\")[0]\n",
    "            fname_save = f\"{fpath_save}{fname}_augmented_{i}.jpg\"\n",
    "            cv.imwrite(fname_save, image)\n",
    "            print(f\"증강 이미지 저장: {fname_save}\")"
   ]
  },
  {
   "cell_type": "code",
   "execution_count": 9,
   "metadata": {},
   "outputs": [],
   "source": [
    "# augment_images_with_my_pipeline_one(s_index=0, e_index=1, n_iteration=10)"
   ]
  },
  {
   "cell_type": "markdown",
   "metadata": {},
   "source": [
    "##### 다수의 Augraphy User Defined Pipeline"
   ]
  },
  {
   "cell_type": "code",
   "execution_count": 10,
   "metadata": {},
   "outputs": [],
   "source": [
    "from augraphy import *\n",
    "from augraphy.default.pipeline import *\n",
    "from MyAugraphyPipeline import *\n",
    "\n",
    "\n",
    "# 이미지 증강 함수\n",
    "# - 사용자 정의 파이프라인 10개를 1번 돌림\n",
    "def augment_images_with_my_pipeline_list(s_index=0, e_index=1569, n_iteration=10):\n",
    "    # Make Pipelines for Augraphy\n",
    "    pipeline_list = [\n",
    "        # 미리 정의된 함수\n",
    "        # pipeline_archetype1(),\n",
    "        # pipeline_archetype2(),\n",
    "        # pipeline_archetype3(),\n",
    "        # pipeline_archetype4(),\n",
    "        # pipeline_archetype5(),\n",
    "        # pipeline_archetype6(),\n",
    "        # pipeline_archetype7(),\n",
    "        # # pipeline_archetype8(), # 오류\n",
    "        # pipeline_archetype9(),\n",
    "        # pipeline_archetype10(),\n",
    "        # 사용자 정의 함수 (*현재 my_augraphy_pipeline1만 구현)\n",
    "        my_augraphy_pipeline1(),\n",
    "        # my_augraphy_pipeline2(),\n",
    "        # my_augraphy_pipeline3(),\n",
    "        # my_augraphy_pipeline4(),\n",
    "        # my_augraphy_pipeline5(),\n",
    "    ]\n",
    "\n",
    "    image_list = []\n",
    "    for i in range(s_index, e_index + 1):\n",
    "        # 원본 이미지 파일명 리스트 생성\n",
    "        image_list.append(cv.imread(fpath_load + fname_list[i]))\n",
    "        # 원본 이미지 저장\n",
    "        cv.imwrite(fpath_save + fname_list[i], image_list[i - s_index])\n",
    "        print(f\"원본 이미지 저장: {fpath_save}{fname_list[i]}\")\n",
    "\n",
    "    # Make Batches of Images\n",
    "    for n in range(n_iteration):\n",
    "        # Augument Images\n",
    "        ## 첫번째 파이프라인 실행 → 두번째 파이프라인 실행 → ...\n",
    "        for i in range(len(pipeline_list)):\n",
    "            # 사용자 정의 파이프라인을 통한 이미지 증강\n",
    "            globals()[f\"pipeline{i}\"] = pipeline_list[i]\n",
    "            globals()[f\"image_augmented_list{i}\"] = globals()[f\"pipeline{i}\"](\n",
    "                image_list\n",
    "            )\n",
    "\n",
    "            # 증강 이미지 저장\n",
    "            for j, image in enumerate(globals()[f\"image_augmented_list{i}\"]):\n",
    "                fname = fname_list[s_index + j].split(\".\")[0]\n",
    "                fname_save = f\"{fpath_save}{fname}_augmented_n{n}-p{i}-{j}.jpg\"\n",
    "                cv.imwrite(fname_save, image)\n",
    "                print(f\"증강 이미지 저장: {fname_save}\")\n",
    "\n",
    "            # # 원본 이미지 출력\n",
    "            # image_rows = 1\n",
    "            # image_columns = len(image_list)\n",
    "            # plt.figure(figsize=(25, 25))\n",
    "            # for k in range(image_rows * image_columns):\n",
    "            #     image_index = k + 1\n",
    "            #     image_title = \"image {}\".format(image_index)\n",
    "\n",
    "            #     plt.subplot(image_rows, image_columns, image_index)\n",
    "            #     plt.title(image_title)\n",
    "            #     plt.xticks([])  # x = None\n",
    "            #     plt.yticks([])  # y = None\n",
    "            #     plt.imshow(image_list[k])\n",
    "\n",
    "            # 증강 이미지 출력\n",
    "            image_rows = 1\n",
    "            image_columns = len(image_list)\n",
    "            plt.figure(figsize=(25, 25))\n",
    "            for k in range(image_rows * image_columns):\n",
    "                image_index = k + 1\n",
    "                image_title = \"image_augmented {}\".format(image_index)\n",
    "\n",
    "                plt.subplot(image_rows, image_columns, image_index)\n",
    "                plt.title(image_title)\n",
    "                plt.xticks([])  # x = None\n",
    "                plt.yticks([])  # y = None\n",
    "                plt.imshow(globals()[f\"image_augmented_list{i}\"][k])\n",
    "\n",
    "            plt.show()"
   ]
  },
  {
   "cell_type": "code",
   "execution_count": 11,
   "metadata": {},
   "outputs": [],
   "source": [
    "# augment_images_with_my_pipeline_list(s_index=0, e_index=4, n_iteration=10)"
   ]
  },
  {
   "cell_type": "markdown",
   "metadata": {},
   "source": [
    "##### 다수의 Augrapy User Defined Pipeline + Albumatation 적용"
   ]
  },
  {
   "cell_type": "code",
   "execution_count": 12,
   "metadata": {},
   "outputs": [],
   "source": [
    "# # 이미지 크기 확인\n",
    "# for i in range(10):\n",
    "#     image = cv.imread(fpath_load + fname_list[i])\n",
    "\n",
    "#     height, width, channels = image.shape\n",
    "#     print(f\"Index{i} Width: {width}, Height: {height}, Channels: {channels}\")"
   ]
  },
  {
   "cell_type": "code",
   "execution_count": 13,
   "metadata": {},
   "outputs": [
    {
     "name": "stdout",
     "output_type": "stream",
     "text": [
      "['009235e4c9c07af5.jpg', '012913977fd1d980.jpg', '0250ee8107091ade.jpg', '02dad82a9420ae86.jpg', '03084c1b03921a99.jpg', '04320d1d34f005ca.jpg', '055b74c6c5f5d86b.jpg', '05c30f3c5be4bdcb.jpg', '067f25e0435ab78b.jpg', '06c8db1a419a2a52.jpg', '06e3ae9dce375043.jpg', '0808c7453316041c.jpg', '08e735737fcb818d.jpg', '09a930520afa0ab9.jpg', '0a9843bf4ec022f3.jpg', '0d6a14437ad1a20e.jpg', '0e15e264405bd12a.jpg', '0f3ac436363ae727.jpg', '1258871e4d7347be.jpg', '134a6165b1e7198b.jpg', '1495a1e3d1599fe1.jpg', '15738105f616bea2.jpg', '159f76320c144a6a.jpg', '15f0ed8589380d8f.jpg', '16176cca20eed3c8.jpg', '1674ad0591a3014a.jpg', '18a13df74db514bf.jpg', '1a5b5d5ceed7b946.jpg', '1aa909832b5c4542.jpg', '1ab6b4d6b1ebe5dd.jpg', '1af85d095317707e.jpg', '1bb0c218c35112e9.jpg', '1c893f02de43b62a.jpg', '1cc56bce8c1d4a39.jpg', '1de204716ce483ca.jpg', '1df37977197865cb.jpg', '1e5bf6fe5e8686d6.jpg', '1ec14a14bbe633db.jpg', '1fbda5ffdc6abf49.jpg', '1fca58126b4d1128.jpg', '210e5e6b28b73a4b.jpg', '22819e513decca0f.jpg', '22cdc44d695f2c1f.jpg', '241cfb4ccd3666f0.jpg', '24204bdb434192db.jpg', '24849ed38a58e37d.jpg', '258ffcf2fbc07d2c.jpg', '25cb3d4a2e9d24e2.jpg', '297bbf30d4be0d50.jpg', '299a9d5cd6894ad7.jpg', '2a3790ab1adfe1f4.jpg', '2a75938541d36c4a.jpg', '2b04e4a315457bc0.jpg', '2bbdb0a519013af2.jpg', '2c5a2a5f066b1c82.jpg', '2d2269b6c266dff0.jpg', '2db10d90789ed7e6.jpg', '2e2d105c5a7df767.jpg', '2e3550bead1a72cb.jpg', '2e5acd2c86fc6ad3.jpg', '2e939381a84d19cf.jpg', '2edee3a4605a6992.jpg', '308ffb1480b710bb.jpg', '337eb06c7c2d709d.jpg', '3393b9f804bff29f.jpg', '340339bffa631da0.jpg', '3696b2ffaa6147e6.jpg', '36e1647d484b88b7.jpg', '37f9414beea68229.jpg', '3963920965897f10.jpg', '39a4f1b94db5e879.jpg', '3b013762fcc19049.jpg', '3b2ddc667cea0d48.jpg', '3c5e27755a69ce2c.jpg', '3c70af0a1f13fcae.jpg', '3d298ee084f43b5e.jpg', '3d6e3e961e5c394d.jpg', '3f0cca298c59752d.jpg', '3f5aad5a1cc1a7d6.jpg', '418bf4c97eddc30a.jpg', '41a73bccafe280d2.jpg', '4389d237184fcb1e.jpg', '43c927101a14247f.jpg', '4448a078afa88f51.jpg', '45de554390b44351.jpg', '45ec22e6b1b60734.jpg', '45f0d2dfc7e47c03.jpg', '4620f6e53442f3b6.jpg', '486e83775bea4497.jpg', '4a38e395726fbc06.jpg', '4bdec47234b71ffb.jpg', '4c037c35216fdf7e.jpg', '4c8277bb403a2559.jpg', '4c9d1b5a97095be3.jpg', '4ca2ec8f7f492b0d.jpg', '4e5848a4ad483009.jpg', '4ec0f8a4a5ac3b01.jpg', '4f1a0debe89c7641.jpg', '4f67b1e9ba0fe848.jpg', '4f6c6ad8ec287c2d.jpg', '5074e85e2a75a1fe.jpg', '508391fc78dd9420.jpg', '50bdc79a2007cdcf.jpg', '513a76b111c229cf.jpg', '514d97736492f467.jpg', '51fe52a95d431a86.jpg', '5249ba4981645813.jpg', '5321f2bca9dc723f.jpg', '53937effdc1688e2.jpg', '53a421b8e55160de.jpg', '53e003ccf185b249.jpg', '5403da8f45eaf06c.jpg', '54a7b58c3f6d1210.jpg', '55add846d31a1ece.jpg', '55e25985ad013d19.jpg', '580468cba600b183.jpg', '591f6b87942dfe1d.jpg', '5940a96ae99a8bf8.jpg', '59c47eb7aba8f7f1.jpg', '5a1fdb6d28d26691.jpg', '5a9bbf836c0993de.jpg', '5ba19592cee8212c.jpg', '5bc23b2ae612b6c5.jpg', '5cd0177bad99e239.jpg', '5d04936ef2d91b3e.jpg', '5db90ffe1eb7b025.jpg', '5f047c4d27c6d01e.jpg', '5f86b7790b475a00.jpg', '60c30c198d80fc5b.jpg', '60c51c3e594c25d8.jpg', '60d372fb5e69fafe.jpg', '62529466e45e88e1.jpg', '63b4e87e890cfbc3.jpg', '64be3ad0b648f8ca.jpg', '653d9830004b3602.jpg', '654e10bb8ec38099.jpg', '65886a07284e5f43.jpg', '6595fdaa3351e74e.jpg', '65b191b1c0b79bbc.jpg', '65de4b66ba654c58.jpg', '65e54d26136cd5e1.jpg', '66469978dfc91a6a.jpg', '665e3f6bd4fb0a1c.jpg', '67271790e17abbf2.jpg', '6804bbcb0644bfaa.jpg', '6830f36b4231f1f8.jpg', '6833fc9562046889.jpg', '68465df7e54034e7.jpg', '690245deffbb23a6.jpg', '6bd9b10df1a9e223.jpg', '6c86addce8dddcc1.jpg', '6f07e6e19c86efc7.jpg', '704f0cdc69a6d98d.jpg', '706cc6881b18b291.jpg', '706f88bd829080ed.jpg', '70c329deab35bb61.jpg', '7100c5c67aecadc5.jpg', '71a66c0c5e7f1806.jpg', '71b4afcf511ef770.jpg', '71dde89e294555fc.jpg', '733783e7eccfee05.jpg', '738660387439a720.jpg', '739e4dea86e517c6.jpg', '74cdf0bf86283b84.jpg', '757fec90bcdd3dec.jpg', '75fc96abad67684d.jpg', '762842c6d662af02.jpg', '767a627b4b2d862a.jpg', '76ff32bef566bd38.jpg', '77e5c96da6c81a73.jpg', '78b3f4f8fde4d8e5.jpg', '78da144ebc783909.jpg', '794938aa61f01452.jpg', '7960b14919ebf48a.jpg', '7a0874abecb8bf5a.jpg', '7a5c7b2d02f2dca6.jpg', '7ae55baa09533c1f.jpg', '7b30b726a3fb7a14.jpg', '7b6175b967d7c92f.jpg', '7bc3f5f4cc4f1873.jpg', '7c42f2261aedc210.jpg', '7c6fb8ca1b30ee46.jpg', '7c75b44fa4fb5c1f.jpg', '7d42ded7563626a4.jpg', '7ef2b4e1897c690e.jpg', '80f998b8dd043ab3.jpg', '80fc982d6dd12c96.jpg', '81ca8f684b6aee30.jpg', '81dbdb42bedcde5e.jpg', '82b19ea64a4ea2dc.jpg', '831e7c40b7700f27.jpg', '83417d8b7e02a45f.jpg', '8345196de286a646.jpg', '836ea26ba4211e4d.jpg', '8392719a0503153f.jpg', '83be41b75fd51b95.jpg', '840c53f776730ffe.jpg', '845fa55f9af2971e.jpg', '84effa5e8f21ae90.jpg', '8595a16cf5971251.jpg', '85bf897665f00361.jpg', '8646f2c3280a4f49.jpg', '8784cdf5c5549c8b.jpg', '88478aa0be9cff21.jpg', '885e3733e3860193.jpg', '88c917b4708fb4d0.jpg', '892f7e96473b3d33.jpg', '89d9f15b59eab688.jpg', '8ae19d84e8e620fa.jpg', '8cafb65e2ac0681e.jpg', '8db8f37ec84b4f8f.jpg', '8deba677308ce027.jpg', '8e77f8a41cfabb11.jpg', '8ec6263e28076f1b.jpg', '907295469202daeb.jpg', '91f89a9a3238fc94.jpg', '926cb3040efcf9d4.jpg', '92c296735de825e0.jpg', '93964b61ead8e03e.jpg', '9404f47da99422e2.jpg', '941d9b492aa30620.jpg', '96b654996b3c749d.jpg', '9783118f09bcdea3.jpg', '988fa031ea841a40.jpg', '98bfb3dcc8fe6325.jpg', '99192aebd3a0c09d.jpg', '994255be33de9f68.jpg', '99d7241ecca09eaf.jpg', '9bea7d9dc1ce362b.jpg', '9d380d37a3c5e37d.jpg', '9d538d69133f4a12.jpg', '9e9c102de5a5cf54.jpg', 'a376fbdb67bc4a92.jpg', 'a56a5cce90031150.jpg', 'a602d3c2110909cc.jpg', 'a66838467277cb38.jpg', 'a6fc2ea190daebc9.jpg', 'a96501bdfa22f1ac.jpg', 'a988e3b816d9aedb.jpg', 'aa139804f175c3b6.jpg', 'aa69a5d83babf080.jpg', 'aa6b90aa9e24c743.jpg', 'aab8ed28854b23e2.jpg', 'aac6d02aa2f222af.jpg', 'ade3fec2ce27a123.jpg', 'aec62dced7af97cd.jpg', 'af650bfc45cb3c46.jpg', 'b1ff3463ccf4d719.jpg', 'b2eda80548c86f2b.jpg', 'b4d81dc41055abf2.jpg', 'b5c66bc6a81dafc9.jpg', 'b709b64897d9233f.jpg', 'b7389314404b2d96.jpg', 'b7423812e6c1bc67.jpg', 'b77db39aea710089.jpg', 'b8685851e07c5f80.jpg', 'b89c776a6a4b375b.jpg', 'b92152203e68a586.jpg', 'b993227004156755.jpg', 'baa80f147d1bcefc.jpg', 'bbb3c7c897a279c6.jpg', 'bbc6a1043212c631.jpg', 'bcdf3ca09b310143.jpg', 'be3aed2be00fd713.jpg', 'be53872196b3ae1d.jpg', 'be6311cc2841ba1f.jpg', 'bf7b8a3fac473a79.jpg', 'c039533391ddbe53.jpg', 'c0ceb27fdfaa4aaf.jpg', 'c0d43c9035f7d2b6.jpg', 'c323c86de8033ad1.jpg', 'c3629889f845bd50.jpg', 'c3e5e2030b188c1f.jpg', 'c44dd5fb74c16964.jpg', 'c5182ab809478f12.jpg', 'c70d7245dd936788.jpg', 'c8cd1751b80440c2.jpg', 'c9ac57bc993e5a8b.jpg', 'cb80827b28619aa2.jpg', 'cc26b4fc96adaa29.jpg', 'cce8a2522a4db5f7.jpg', 'ce20ee390833e1ed.jpg', 'cee86faf6225599e.jpg', 'cfdc16c65341f660.jpg', 'cfe47bfe762f45ac.jpg', 'd002fb843172f79c.jpg', 'd17e596e8baca59b.jpg', 'd1b668ee2329c564.jpg', 'd23b442f24f92dba.jpg', 'd41f82a2e58ebf33.jpg', 'd422262eb6aa6033.jpg', 'd479e89ccd1ac5f9.jpg', 'd47d31e47169ccdf.jpg', 'd4d769d2926648a3.jpg', 'd4dcb750454d78a4.jpg', 'd54f10f7792df3ec.jpg', 'd6a347d526941e79.jpg', 'd87fe6344741e8e4.jpg', 'd8ec671533223806.jpg', 'd9258ffd43db6b98.jpg', 'd9e230e42838eb4f.jpg', 'da4e329a0b061ab5.jpg', 'db492340c2e628ef.jpg', 'dca043709cbafcb1.jpg', 'dca9c3da2fd10251.jpg', 'dcc092f954e12d07.jpg', 'dd890b6a9b2785e0.jpg', 'dd95257e86c7c378.jpg', 'dda2df9797b370e7.jpg', 'df03f4facff2b3e7.jpg', 'df7d7932966d7e22.jpg', 'dfbcc39a0cd12380.jpg', 'e01f894df0a13db3.jpg', 'e0309e1e1f05b1fd.jpg', 'e4bf926244810e1b.jpg', 'e4ed17241d8f43f5.jpg', 'e681d2d298112992.jpg', 'e77a343897a1b845.jpg', 'e894c83f1cb6efac.jpg', 'e8cf8d1415370974.jpg', 'e8db1707653dc637.jpg', 'e985d6cb79c79810.jpg', 'e9bab9b6d33881eb.jpg', 'eaf147f1f7c77fd6.jpg', 'ebbe01aaff327255.jpg', 'ede6635db719d5b7.jpg', 'ee28c456f43bff84.jpg', 'ef2bf2a6aa6f525d.jpg', 'f061a4d1f9a12a9d.jpg', 'f0c0ce213221e4c1.jpg', 'f23244d093034a7e.jpg', 'f3288f19fb0f2b75.jpg', 'f3451b2510437eba.jpg', 'f35b36871c75494a.jpg', 'f3d4cabc480bfc06.jpg', 'f639384a02c71efd.jpg', 'f658d910990982f7.jpg', 'f66cc08a628bc668.jpg', 'f9b5addf7a5b4407.jpg', 'f9bfe5eae7d723ce.jpg', 'f9e939c205cea5c6.jpg', 'fa794d60fc55156e.jpg', 'fa8945c106e8e610.jpg', 'fb70357d03187bf2.jpg', 'fc85f507537c9300.jpg', 'fe30845b79d1d42f.jpg', 'fe73481aadfbec34.jpg', 'fe9683317086dbab.jpg', 'fed9e9ec4a77bc06.jpg', 'feeade617aa68c45.jpg']\n"
     ]
    }
   ],
   "source": [
    "df = pd.read_csv(\"../data/train.csv\")\n",
    "target_values = [3, 4, 7, 14]\n",
    "target_filtered_list = df[df[\"target\"].isin(target_values)][\"ID\"].tolist()\n",
    "\n",
    "print(target_filtered_list)"
   ]
  },
  {
   "cell_type": "code",
   "execution_count": 14,
   "metadata": {},
   "outputs": [
    {
     "name": "stderr",
     "output_type": "stream",
     "text": [
      "INFO:albumentations.check_version:A new version of Albumentations is available: 1.4.13 (you have 1.4.12). Upgrade using: pip install -U albumentations. To disable automatic update checks, set the environment variable NO_ALBUMENTATIONS_UPDATE to 1.\n"
     ]
    }
   ],
   "source": [
    "from augraphy import *\n",
    "from augraphy.default.pipeline import *\n",
    "from MyAugraphyPipeline import *\n",
    "import albumentations as A\n",
    "\n",
    "\n",
    "# 이미지 증강 함수\n",
    "# - 사용자 정의 파이프라인 10개를 1번 돌림\n",
    "def augment_images_with_albumentations(s_index=0, e_index=1569, n_iteration=10):\n",
    "    # Make Pipelines for Augraphy\n",
    "    pipeline_list = [\n",
    "        # 미리 정의된 함수\n",
    "        # pipeline_archetype1(),\n",
    "        # pipeline_archetype2(),\n",
    "        # pipeline_archetype3(),\n",
    "        # pipeline_archetype4(),\n",
    "        # pipeline_archetype5(),\n",
    "        # pipeline_archetype6(),\n",
    "        # pipeline_archetype7(),\n",
    "        # # pipeline_archetype8(), # 오류\n",
    "        # pipeline_archetype9(),\n",
    "        # pipeline_archetype10(),\n",
    "        # 사용자 정의 함수 (*현재 my_augraphy_pipeline1만 구현)\n",
    "        my_augraphy_pipeline1(),\n",
    "        # my_augraphy_pipeline2(),\n",
    "        # my_augraphy_pipeline3(),\n",
    "        # my_augraphy_pipeline4(),\n",
    "        # my_augraphy_pipeline5(),\n",
    "    ]\n",
    "\n",
    "    # albumentations 증강 파이프라인 정의\n",
    "    transform = A.Compose(\n",
    "        [\n",
    "            # 회전 변환\n",
    "            A.Rotate(\n",
    "                limit=360, border_mode=cv.BORDER_CONSTANT, value=(255, 255, 255), p=0.5\n",
    "            ),  # 360도 이내 회전, 빈 공간을 흰색으로 채움, 항상 적용\n",
    "            # 크롭 변환 (중앙 크롭)\n",
    "            # A.CenterCrop(height=224, width=224, p=0.5),  # 중앙 크롭, 항상 적용\n",
    "            # 추가적인 변환 (선택적)\n",
    "            A.RandomBrightnessContrast(p=0.5),  # 밝기/대비 조정\n",
    "            A.HorizontalFlip(p=0.5),  # 좌우 반전\n",
    "            A.ShiftScaleRotate(\n",
    "                shift_limit=0.1,\n",
    "                scale_limit=0.1,\n",
    "                rotate_limit=45,\n",
    "                border_mode=cv.BORDER_CONSTANT,  # 빈 공간을 고정된 색상으로 채움\n",
    "                value=(255, 255, 255),  # 빈 공간을 흰색으로 채움\n",
    "                p=0.25,  # 항상 적용\n",
    "            ),  # 이동, 확대/축소 및 추가 회전\n",
    "        ]\n",
    "    )\n",
    "\n",
    "    image_list = []\n",
    "    for i in range(s_index, e_index + 1):\n",
    "        # 이미지 리스트 생성\n",
    "        image_list.append(cv.imread(fpath_load + target_filtered_list[i]))\n",
    "        # 이미지 저장\n",
    "        cv.imwrite(fpath_save + target_filtered_list[i], image_list[i])\n",
    "        print(f\"원본 이미지 저장: {fpath_save}{target_filtered_list[i]}\")\n",
    "\n",
    "    # Make Batches of Images\n",
    "    for n in range(n_iteration):\n",
    "        for i, pipeline in enumerate(pipeline_list):\n",
    "            # Augraphy 증강 적용\n",
    "            image_augmented_list = pipeline(image_list)\n",
    "\n",
    "            # Almumentations 증강 적용 및 이미지 저장\n",
    "            image_transformed_list = []\n",
    "            for j, image in enumerate(image_augmented_list):\n",
    "                # Almumentations 증강 적용\n",
    "                transformed = transform(image=image)\n",
    "                image_transformed = transformed[\"image\"]  # 이미지 데이터를 추출\n",
    "                image_transformed_rgb = cv.cvtColor(image_transformed, cv.COLOR_BGR2RGB)\n",
    "                image_transformed_list.append(image_transformed_rgb)\n",
    "\n",
    "                # 이미지 저장\n",
    "                fname = target_filtered_list[s_index + j].split(\".\")[0]\n",
    "                fname_save = f\"{fpath_save}{fname}_transformed_n{n}_p{i}.jpg\"\n",
    "                cv.imwrite(fname_save, image_transformed_rgb)\n",
    "                print(f\"증강 이미지 저장: {fname_save}\")\n",
    "\n",
    "            # # 원본 이미지 출력\n",
    "            # image_rows = 1\n",
    "            # image_columns = len(image_list)\n",
    "            # plt.figure(figsize=(25, 25))\n",
    "            # for k in range(image_rows * image_columns):\n",
    "            #     image_index = k + 1\n",
    "            #     image_title = \"image {}\".format(image_index)\n",
    "\n",
    "            #     plt.subplot(image_rows, image_columns, image_index)\n",
    "            #     plt.title(image_title)\n",
    "            #     plt.xticks([])  # x = None\n",
    "            #     plt.yticks([])  # y = None\n",
    "            #     plt.imshow(image_list[k])\n",
    "            #     plt.show()\n",
    "\n",
    "            # # 증강 이미지 출력\n",
    "            # image_rows = 1\n",
    "            # image_columns = len(image_transformed_list)\n",
    "            # plt.figure(figsize=(25, 25))\n",
    "            # for k in range(image_rows * image_columns):\n",
    "            #     image_index = k + 1\n",
    "            #     image_title = \"image_transformed {}\".format(image_index)\n",
    "\n",
    "            #     plt.subplot(image_rows, image_columns, image_index)\n",
    "            #     plt.title(image_title)\n",
    "            #     plt.xticks([])  # x = None\n",
    "            #     plt.yticks([])  # y = None\n",
    "            #     plt.imshow(image_transformed_list[k])\n",
    "            #     plt.show()"
   ]
  },
  {
   "cell_type": "code",
   "execution_count": 15,
   "metadata": {},
   "outputs": [
    {
     "name": "stderr",
     "output_type": "stream",
     "text": [
      "OMP: Info #276: omp_set_nested routine deprecated, please use omp_set_max_active_levels instead.\n"
     ]
    },
    {
     "name": "stdout",
     "output_type": "stream",
     "text": [
      "원본 이미지 저장: ../data/train_augmented_tmp/009235e4c9c07af5.jpg\n",
      "원본 이미지 저장: ../data/train_augmented_tmp/012913977fd1d980.jpg\n",
      "증강 이미지 저장: ../data/train_augmented_tmp/009235e4c9c07af5_transformed_n0_p0.jpg\n",
      "증강 이미지 저장: ../data/train_augmented_tmp/012913977fd1d980_transformed_n0_p0.jpg\n",
      "증강 이미지 저장: ../data/train_augmented_tmp/009235e4c9c07af5_transformed_n1_p0.jpg\n",
      "증강 이미지 저장: ../data/train_augmented_tmp/012913977fd1d980_transformed_n1_p0.jpg\n",
      "증강 이미지 저장: ../data/train_augmented_tmp/009235e4c9c07af5_transformed_n2_p0.jpg\n",
      "증강 이미지 저장: ../data/train_augmented_tmp/012913977fd1d980_transformed_n2_p0.jpg\n",
      "증강 이미지 저장: ../data/train_augmented_tmp/009235e4c9c07af5_transformed_n3_p0.jpg\n",
      "증강 이미지 저장: ../data/train_augmented_tmp/012913977fd1d980_transformed_n3_p0.jpg\n",
      "증강 이미지 저장: ../data/train_augmented_tmp/009235e4c9c07af5_transformed_n4_p0.jpg\n",
      "증강 이미지 저장: ../data/train_augmented_tmp/012913977fd1d980_transformed_n4_p0.jpg\n"
     ]
    }
   ],
   "source": [
    "augment_images_with_albumentations(s_index=0, e_index=1, n_iteration=5)"
   ]
  },
  {
   "cell_type": "code",
   "execution_count": 16,
   "metadata": {},
   "outputs": [
    {
     "name": "stdout",
     "output_type": "stream",
     "text": [
      "원본 + 증강 이미지 개수:  12\n",
      "결측치\n",
      "ID        0\n",
      "target    0\n",
      "dtype: int64\n"
     ]
    }
   ],
   "source": [
    "augment_labels()"
   ]
  }
 ],
 "metadata": {
  "kernelspec": {
   "display_name": "py38-torch",
   "language": "python",
   "name": "python3"
  },
  "language_info": {
   "codemirror_mode": {
    "name": "ipython",
    "version": 3
   },
   "file_extension": ".py",
   "mimetype": "text/x-python",
   "name": "python",
   "nbconvert_exporter": "python",
   "pygments_lexer": "ipython3",
   "version": "3.10.13"
  }
 },
 "nbformat": 4,
 "nbformat_minor": 2
}
